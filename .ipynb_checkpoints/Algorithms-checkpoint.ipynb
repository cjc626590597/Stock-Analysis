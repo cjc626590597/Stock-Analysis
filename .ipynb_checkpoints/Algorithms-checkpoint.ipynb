{
 "cells": [
  {
   "cell_type": "code",
   "execution_count": null,
   "id": "9eff07ad",
   "metadata": {},
   "outputs": [],
   "source": [
    "#import packages\n",
    "import pandas as pd\n",
    "import pandas_datareader.data as web  \n",
    "import pandas_ta as ta\n",
    "import yfinance as yf\n",
    "import numpy as np\n",
    "import datetime as dt\n",
    "import matplotlib.pyplot as plt\n",
    "%matplotlib inline"
   ]
  },
  {
   "cell_type": "code",
   "execution_count": null,
   "id": "7919d66f",
   "metadata": {},
   "outputs": [],
   "source": [
    "from sklearn.svm import SVR\n",
    "svr = SVR(C=100)\n",
    "\n",
    "# In the next step, we will create predictions for the validation set and check the RMSE using the actual values.\n",
    "# making predictions\n",
    "preds = []\n",
    "svr.fit(x_train[['Close', 'MACD_12_26_9', 'MACDh_12_26_9', 'MACDs_12_26_9', 'MFI_14', 'STOCHk_14_3_3', 'STOCHd_14_3_3', 'RSI_14', 'AD', 'ROC_126']], y_train['Close_after_1_day'])\n",
    "preds = svr.predict(x_valid[['Close', 'MACD_12_26_9', 'MACDh_12_26_9', 'MACDs_12_26_9', 'MFI_14', 'STOCHk_14_3_3', 'STOCHd_14_3_3', 'RSI_14', 'AD', 'ROC_126']])\n",
    "\n",
    "# checking the results (RMSE value)\n",
    "rms=np.sqrt(np.mean(np.power((np.array(y_valid['Close_after_1_day'])-preds),2)))\n",
    "print('\\n RMSE value on validation set:')\n",
    "print(rms)"
   ]
  },
  {
   "cell_type": "code",
   "execution_count": null,
   "id": "ae1a1a71",
   "metadata": {},
   "outputs": [],
   "source": [
    "from sklearn.neural_network import MLPRegressor \n",
    "clf = MLPRegressor(activation = 'relu',max_iter = 100,alpha = 1e-5,hidden_layer_sizes = (30,50,70))\n",
    "\n",
    "# In the next step, we will create predictions for the validation set and check the RMSE using the actual values.\n",
    "# making predictions\n",
    "preds = []\n",
    "# clf.fit(train[['Open', 'MACD_12_26_9', 'MACDh_12_26_9', 'MACDs_12_26_9', 'MFI_14', 'STOCHk_14_3_3', 'STOCHd_14_3_3', 'RSI_14', 'AD']], train['Close'])\n",
    "# preds = clf.predict(valid[['Open', 'MACD_12_26_9', 'MACDh_12_26_9', 'MACDs_12_26_9', 'MFI_14', 'STOCHk_14_3_3', 'STOCHd_14_3_3', 'RSI_14', 'AD']])\n",
    "clf.fit(x_train[['Close', 'MACD_12_26_9', 'MACDh_12_26_9', 'MACDs_12_26_9', 'MFI_14', 'STOCHk_14_3_3', 'STOCHd_14_3_3', 'RSI_14', 'AD', 'ROC_126']], y_train['Close_after_1_day'].astype(int).astype(float))\n",
    "preds = clf.predict(x_valid[['Close', 'MACD_12_26_9', 'MACDh_12_26_9', 'MACDs_12_26_9', 'MFI_14', 'STOCHk_14_3_3', 'STOCHd_14_3_3', 'RSI_14', 'AD', 'ROC_126']])\n",
    "\n",
    "# checking the results (RMSE value)\n",
    "rms=np.sqrt(np.mean(np.power((np.array(y_valid['Close_after_1_day'])-preds),2)))\n",
    "print('\\n RMSE value on validation set:')\n",
    "print(rms)"
   ]
  },
  {
   "cell_type": "code",
   "execution_count": null,
   "id": "ff72fced",
   "metadata": {},
   "outputs": [],
   "source": [
    "#plot\n",
    "apple_x_train = x_train[0].loc[\"AAPL\"].loc[\"Information Technology\"]\n",
    "apple_x_valid = x_valid[0].loc[\"AAPL\"].loc[\"Information Technology\"]\n",
    "apple_y_train = y_train[0].loc[\"AAPL\"].loc[\"Information Technology\"]\n",
    "apple_y_valid = y_valid[0].loc[\"AAPL\"].loc[\"Information Technology\"]\n",
    "preds = svr.predict(apple_y_train[['Close', 'MACD_12_26_9', 'MACDh_12_26_9', 'MACDs_12_26_9', 'MFI_14', 'STOCHk_14_3_3', 'STOCHd_14_3_3', 'RSI_14', 'AD', 'ROC_126']])\n",
    "\n",
    "plt.figure(figsize=(16,8))\n",
    "preds = pd.DataFrame(preds, columns = ['Predictions'], index = y_valid.index)\n",
    "plt.plot(apple_y_train['Close_after_1_day'], label='Close Price')\n",
    "plt.plot(apple_y_valid[['Close_after_1_day']], label='Actual Price')\n",
    "plt.plot(preds['Predictions'], label='SVR Predicted Price')\n",
    "plt.title('Using Technical Indicators to Predict Price by SVR')\n",
    "plt.legend()"
   ]
  }
 ],
 "metadata": {
  "kernelspec": {
   "display_name": "Python [conda env:root] *",
   "language": "python",
   "name": "conda-root-py"
  },
  "language_info": {
   "codemirror_mode": {
    "name": "ipython",
    "version": 3
   },
   "file_extension": ".py",
   "mimetype": "text/x-python",
   "name": "python",
   "nbconvert_exporter": "python",
   "pygments_lexer": "ipython3",
   "version": "3.7.6"
  }
 },
 "nbformat": 4,
 "nbformat_minor": 5
}
