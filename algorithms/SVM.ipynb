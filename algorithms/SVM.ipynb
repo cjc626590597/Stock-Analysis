{
 "cells": [
  {
   "cell_type": "code",
   "execution_count": 1,
   "id": "a6cc76ea",
   "metadata": {},
   "outputs": [],
   "source": [
    "#import packages\n",
    "import pandas as pd\n",
    "import numpy as np\n",
    "import matplotlib.pyplot as plt\n",
    "from sklearn.preprocessing import MinMaxScaler\n",
    "%matplotlib inline\n",
    "\n",
    "import sys\n",
    "sys.path.append('..')\n",
    "from utils.read_utils import load_stickers, load_dataset, load_indicators3, load_horizons\n",
    "from utils.plot_utils import print_score, inverse_transform, plot_prediction\n",
    "from algorithms.model import score"
   ]
  },
  {
   "cell_type": "code",
   "execution_count": 2,
   "id": "aa77bd70",
   "metadata": {},
   "outputs": [
    {
     "data": {
      "text/plain": [
       "((79002, 27), (19800, 27), (79002, 3), (19800, 3))"
      ]
     },
     "execution_count": 2,
     "metadata": {},
     "output_type": "execute_result"
    }
   ],
   "source": [
    "# Import the dataset\n",
    "X_train, X_test, y_train, y_test = load_dataset()\n",
    "X_train.shape, X_test.shape, y_train.shape, y_test.shape"
   ]
  },
  {
   "cell_type": "code",
   "execution_count": 3,
   "id": "b3514773",
   "metadata": {},
   "outputs": [
    {
     "data": {
      "text/html": [
       "<div>\n",
       "<style scoped>\n",
       "    .dataframe tbody tr th:only-of-type {\n",
       "        vertical-align: middle;\n",
       "    }\n",
       "\n",
       "    .dataframe tbody tr th {\n",
       "        vertical-align: top;\n",
       "    }\n",
       "\n",
       "    .dataframe thead th {\n",
       "        text-align: right;\n",
       "    }\n",
       "</style>\n",
       "<table border=\"1\" class=\"dataframe\">\n",
       "  <thead>\n",
       "    <tr style=\"text-align: right;\">\n",
       "      <th></th>\n",
       "      <th>Symbol</th>\n",
       "      <th>Sector</th>\n",
       "      <th>Close</th>\n",
       "      <th>MACD_12_26_9</th>\n",
       "      <th>MACDh_12_26_9</th>\n",
       "      <th>MACDs_12_26_9</th>\n",
       "      <th>MFI_14</th>\n",
       "      <th>STOCHk_14_3_3</th>\n",
       "      <th>STOCHd_14_3_3</th>\n",
       "      <th>RSI_14</th>\n",
       "      <th>...</th>\n",
       "      <th>industry_macds_12_26</th>\n",
       "      <th>sp500_future_macd_12_252</th>\n",
       "      <th>sp500_future_macdh_12_252</th>\n",
       "      <th>sp500_future_macds_12_252</th>\n",
       "      <th>dollar_index_macd_12_252</th>\n",
       "      <th>dollar_index_macdh_12_252</th>\n",
       "      <th>dollar_index_macds_12_252</th>\n",
       "      <th>constant_maturity_macd_12_26</th>\n",
       "      <th>constant_maturity_macdh_12_26</th>\n",
       "      <th>constant_maturity_macds_12_26</th>\n",
       "    </tr>\n",
       "  </thead>\n",
       "  <tbody>\n",
       "    <tr>\n",
       "      <th>2018-01-12</th>\n",
       "      <td>AAPL</td>\n",
       "      <td>Information Technology</td>\n",
       "      <td>44.272499</td>\n",
       "      <td>0.279049</td>\n",
       "      <td>0.070511</td>\n",
       "      <td>0.208537</td>\n",
       "      <td>49.448601</td>\n",
       "      <td>86.786413</td>\n",
       "      <td>79.241559</td>\n",
       "      <td>63.933113</td>\n",
       "      <td>...</td>\n",
       "      <td>10.904313</td>\n",
       "      <td>258.996478</td>\n",
       "      <td>17.345854</td>\n",
       "      <td>241.650624</td>\n",
       "      <td>-3.884604</td>\n",
       "      <td>-0.285202</td>\n",
       "      <td>-3.599402</td>\n",
       "      <td>-0.013031</td>\n",
       "      <td>0.008353</td>\n",
       "      <td>-0.021384</td>\n",
       "    </tr>\n",
       "    <tr>\n",
       "      <th>2018-01-16</th>\n",
       "      <td>AAPL</td>\n",
       "      <td>Information Technology</td>\n",
       "      <td>44.047501</td>\n",
       "      <td>0.299277</td>\n",
       "      <td>0.072592</td>\n",
       "      <td>0.226685</td>\n",
       "      <td>56.387717</td>\n",
       "      <td>84.778499</td>\n",
       "      <td>83.724224</td>\n",
       "      <td>60.286756</td>\n",
       "      <td>...</td>\n",
       "      <td>11.585355</td>\n",
       "      <td>272.713460</td>\n",
       "      <td>17.166527</td>\n",
       "      <td>255.546933</td>\n",
       "      <td>-4.130166</td>\n",
       "      <td>-0.378979</td>\n",
       "      <td>-3.751187</td>\n",
       "      <td>-0.015600</td>\n",
       "      <td>0.003290</td>\n",
       "      <td>-0.018891</td>\n",
       "    </tr>\n",
       "    <tr>\n",
       "      <th>2018-01-17</th>\n",
       "      <td>AAPL</td>\n",
       "      <td>Information Technology</td>\n",
       "      <td>44.775002</td>\n",
       "      <td>0.369749</td>\n",
       "      <td>0.114451</td>\n",
       "      <td>0.255298</td>\n",
       "      <td>66.314712</td>\n",
       "      <td>87.455489</td>\n",
       "      <td>86.340133</td>\n",
       "      <td>66.866883</td>\n",
       "      <td>...</td>\n",
       "      <td>12.413647</td>\n",
       "      <td>277.316124</td>\n",
       "      <td>17.415353</td>\n",
       "      <td>259.900771</td>\n",
       "      <td>-4.286488</td>\n",
       "      <td>-0.428241</td>\n",
       "      <td>-3.858247</td>\n",
       "      <td>-0.016080</td>\n",
       "      <td>0.002249</td>\n",
       "      <td>-0.018328</td>\n",
       "    </tr>\n",
       "    <tr>\n",
       "      <th>2018-01-18</th>\n",
       "      <td>AAPL</td>\n",
       "      <td>Information Technology</td>\n",
       "      <td>44.814999</td>\n",
       "      <td>0.423939</td>\n",
       "      <td>0.134913</td>\n",
       "      <td>0.289026</td>\n",
       "      <td>73.389883</td>\n",
       "      <td>85.987594</td>\n",
       "      <td>86.073860</td>\n",
       "      <td>67.188769</td>\n",
       "      <td>...</td>\n",
       "      <td>13.294427</td>\n",
       "      <td>279.748077</td>\n",
       "      <td>15.877844</td>\n",
       "      <td>263.870232</td>\n",
       "      <td>-4.427213</td>\n",
       "      <td>-0.455173</td>\n",
       "      <td>-3.972040</td>\n",
       "      <td>-0.012283</td>\n",
       "      <td>0.004836</td>\n",
       "      <td>-0.017119</td>\n",
       "    </tr>\n",
       "    <tr>\n",
       "      <th>2018-01-19</th>\n",
       "      <td>AAPL</td>\n",
       "      <td>Information Technology</td>\n",
       "      <td>44.615002</td>\n",
       "      <td>0.445611</td>\n",
       "      <td>0.125267</td>\n",
       "      <td>0.320343</td>\n",
       "      <td>65.569700</td>\n",
       "      <td>91.451444</td>\n",
       "      <td>88.298176</td>\n",
       "      <td>63.848590</td>\n",
       "      <td>...</td>\n",
       "      <td>14.161947</td>\n",
       "      <td>283.602023</td>\n",
       "      <td>15.785433</td>\n",
       "      <td>267.816591</td>\n",
       "      <td>-4.534870</td>\n",
       "      <td>-0.450263</td>\n",
       "      <td>-4.084606</td>\n",
       "      <td>-0.008371</td>\n",
       "      <td>0.006999</td>\n",
       "      <td>-0.015370</td>\n",
       "    </tr>\n",
       "  </tbody>\n",
       "</table>\n",
       "<p>5 rows × 27 columns</p>\n",
       "</div>"
      ],
      "text/plain": [
       "           Symbol                  Sector      Close  MACD_12_26_9  \\\n",
       "2018-01-12   AAPL  Information Technology  44.272499      0.279049   \n",
       "2018-01-16   AAPL  Information Technology  44.047501      0.299277   \n",
       "2018-01-17   AAPL  Information Technology  44.775002      0.369749   \n",
       "2018-01-18   AAPL  Information Technology  44.814999      0.423939   \n",
       "2018-01-19   AAPL  Information Technology  44.615002      0.445611   \n",
       "\n",
       "            MACDh_12_26_9  MACDs_12_26_9     MFI_14  STOCHk_14_3_3  \\\n",
       "2018-01-12       0.070511       0.208537  49.448601      86.786413   \n",
       "2018-01-16       0.072592       0.226685  56.387717      84.778499   \n",
       "2018-01-17       0.114451       0.255298  66.314712      87.455489   \n",
       "2018-01-18       0.134913       0.289026  73.389883      85.987594   \n",
       "2018-01-19       0.125267       0.320343  65.569700      91.451444   \n",
       "\n",
       "            STOCHd_14_3_3     RSI_14  ...  industry_macds_12_26  \\\n",
       "2018-01-12      79.241559  63.933113  ...             10.904313   \n",
       "2018-01-16      83.724224  60.286756  ...             11.585355   \n",
       "2018-01-17      86.340133  66.866883  ...             12.413647   \n",
       "2018-01-18      86.073860  67.188769  ...             13.294427   \n",
       "2018-01-19      88.298176  63.848590  ...             14.161947   \n",
       "\n",
       "            sp500_future_macd_12_252  sp500_future_macdh_12_252  \\\n",
       "2018-01-12                258.996478                  17.345854   \n",
       "2018-01-16                272.713460                  17.166527   \n",
       "2018-01-17                277.316124                  17.415353   \n",
       "2018-01-18                279.748077                  15.877844   \n",
       "2018-01-19                283.602023                  15.785433   \n",
       "\n",
       "            sp500_future_macds_12_252  dollar_index_macd_12_252  \\\n",
       "2018-01-12                 241.650624                 -3.884604   \n",
       "2018-01-16                 255.546933                 -4.130166   \n",
       "2018-01-17                 259.900771                 -4.286488   \n",
       "2018-01-18                 263.870232                 -4.427213   \n",
       "2018-01-19                 267.816591                 -4.534870   \n",
       "\n",
       "            dollar_index_macdh_12_252  dollar_index_macds_12_252  \\\n",
       "2018-01-12                  -0.285202                  -3.599402   \n",
       "2018-01-16                  -0.378979                  -3.751187   \n",
       "2018-01-17                  -0.428241                  -3.858247   \n",
       "2018-01-18                  -0.455173                  -3.972040   \n",
       "2018-01-19                  -0.450263                  -4.084606   \n",
       "\n",
       "            constant_maturity_macd_12_26  constant_maturity_macdh_12_26  \\\n",
       "2018-01-12                     -0.013031                       0.008353   \n",
       "2018-01-16                     -0.015600                       0.003290   \n",
       "2018-01-17                     -0.016080                       0.002249   \n",
       "2018-01-18                     -0.012283                       0.004836   \n",
       "2018-01-19                     -0.008371                       0.006999   \n",
       "\n",
       "            constant_maturity_macds_12_26  \n",
       "2018-01-12                      -0.021384  \n",
       "2018-01-16                      -0.018891  \n",
       "2018-01-17                      -0.018328  \n",
       "2018-01-18                      -0.017119  \n",
       "2018-01-19                      -0.015370  \n",
       "\n",
       "[5 rows x 27 columns]"
      ]
     },
     "execution_count": 3,
     "metadata": {},
     "output_type": "execute_result"
    }
   ],
   "source": [
    "X_train.head()"
   ]
  },
  {
   "cell_type": "code",
   "execution_count": 4,
   "id": "aac0dddd",
   "metadata": {},
   "outputs": [
    {
     "data": {
      "text/html": [
       "<div>\n",
       "<style scoped>\n",
       "    .dataframe tbody tr th:only-of-type {\n",
       "        vertical-align: middle;\n",
       "    }\n",
       "\n",
       "    .dataframe tbody tr th {\n",
       "        vertical-align: top;\n",
       "    }\n",
       "\n",
       "    .dataframe thead th {\n",
       "        text-align: right;\n",
       "    }\n",
       "</style>\n",
       "<table border=\"1\" class=\"dataframe\">\n",
       "  <thead>\n",
       "    <tr style=\"text-align: right;\">\n",
       "      <th></th>\n",
       "      <th>Symbol</th>\n",
       "      <th>Sector</th>\n",
       "      <th>Close_after_1_day</th>\n",
       "    </tr>\n",
       "  </thead>\n",
       "  <tbody>\n",
       "    <tr>\n",
       "      <th>2018-01-12</th>\n",
       "      <td>AAPL</td>\n",
       "      <td>Information Technology</td>\n",
       "      <td>44.047501</td>\n",
       "    </tr>\n",
       "    <tr>\n",
       "      <th>2018-01-16</th>\n",
       "      <td>AAPL</td>\n",
       "      <td>Information Technology</td>\n",
       "      <td>44.775002</td>\n",
       "    </tr>\n",
       "    <tr>\n",
       "      <th>2018-01-17</th>\n",
       "      <td>AAPL</td>\n",
       "      <td>Information Technology</td>\n",
       "      <td>44.814999</td>\n",
       "    </tr>\n",
       "    <tr>\n",
       "      <th>2018-01-18</th>\n",
       "      <td>AAPL</td>\n",
       "      <td>Information Technology</td>\n",
       "      <td>44.615002</td>\n",
       "    </tr>\n",
       "    <tr>\n",
       "      <th>2018-01-19</th>\n",
       "      <td>AAPL</td>\n",
       "      <td>Information Technology</td>\n",
       "      <td>44.250000</td>\n",
       "    </tr>\n",
       "  </tbody>\n",
       "</table>\n",
       "</div>"
      ],
      "text/plain": [
       "           Symbol                  Sector  Close_after_1_day\n",
       "2018-01-12   AAPL  Information Technology          44.047501\n",
       "2018-01-16   AAPL  Information Technology          44.775002\n",
       "2018-01-17   AAPL  Information Technology          44.814999\n",
       "2018-01-18   AAPL  Information Technology          44.615002\n",
       "2018-01-19   AAPL  Information Technology          44.250000"
      ]
     },
     "execution_count": 4,
     "metadata": {},
     "output_type": "execute_result"
    }
   ],
   "source": [
    "y_train.head()"
   ]
  },
  {
   "cell_type": "code",
   "execution_count": 5,
   "id": "ebb3d34a",
   "metadata": {},
   "outputs": [
    {
     "data": {
      "text/plain": [
       "(10, 16, 25)"
      ]
     },
     "execution_count": 5,
     "metadata": {},
     "output_type": "execute_result"
    }
   ],
   "source": [
    "# Import indicators and horizons\n",
    "technical_indicators, fundamental_indicators, combined_indicators = load_indicators3()\n",
    "horizons, horizons_7 = load_horizons()\n",
    "len(technical_indicators), len(fundamental_indicators), len(combined_indicators)"
   ]
  },
  {
   "cell_type": "code",
   "execution_count": 6,
   "id": "aa0d6ee8",
   "metadata": {},
   "outputs": [
    {
     "data": {
      "text/plain": [
       "SVR()"
      ]
     },
     "execution_count": 6,
     "metadata": {},
     "output_type": "execute_result"
    }
   ],
   "source": [
    "from sklearn.svm import SVR \n",
    "svr = SVR()\n",
    "svr"
   ]
  },
  {
   "cell_type": "markdown",
   "id": "f24bfbc3",
   "metadata": {},
   "source": [
    "# For one company"
   ]
  },
  {
   "cell_type": "markdown",
   "id": "38de2f66",
   "metadata": {},
   "source": [
    "## Find the best super parameters of SVR (C, kernel)"
   ]
  },
  {
   "cell_type": "code",
   "execution_count": 7,
   "id": "a49b70b7",
   "metadata": {},
   "outputs": [
    {
     "data": {
      "text/plain": [
       "((798, 27), (638, 27), (160, 27), (638, 3), (160, 3))"
      ]
     },
     "execution_count": 7,
     "metadata": {},
     "output_type": "execute_result"
    }
   ],
   "source": [
    "# Training sets were further split into training and validation sets (using the 80-20 split and preserving chronological order)\n",
    "X_train_one = X_train.loc[X_train['Symbol'] == \"AAPL\"].copy()\n",
    "y_train_one = y_train.loc[X_train['Symbol'] == \"AAPL\"].copy() \n",
    "X_train_split = X_train_one.iloc[:int(4/5*(len(X_train_one)))].copy()\n",
    "X_valid_split = X_train_one.iloc[int(4/5*(len(X_train_one))):].copy()\n",
    "y_train_split = y_train_one.iloc[:int(4/5*(len(X_train_one)))].copy()\n",
    "y_valid_split = y_train_one.iloc[int(4/5*(len(X_train_one))):].copy()\n",
    "X_train_one.shape, X_train_split.shape, X_valid_split.shape, y_train_split.shape, y_valid_split.shape"
   ]
  },
  {
   "cell_type": "code",
   "execution_count": 8,
   "id": "6b20b453",
   "metadata": {},
   "outputs": [
    {
     "data": {
      "text/plain": [
       "MinMaxScaler()"
      ]
     },
     "execution_count": 8,
     "metadata": {},
     "output_type": "execute_result"
    }
   ],
   "source": [
    "# Normalizing the data set \n",
    "X_scaler = MinMaxScaler(feature_range=(0, 1))\n",
    "X_scaler.fit_transform(X_train_split[combined_indicators])\n",
    "y_scaler = MinMaxScaler(feature_range=(0, 1))\n",
    "y_scaler.fit_transform(y_train_split.loc[: ,horizons])\n",
    "X_scaler"
   ]
  },
  {
   "cell_type": "code",
   "execution_count": 9,
   "id": "2745416c",
   "metadata": {},
   "outputs": [
    {
     "data": {
      "text/html": [
       "<div>\n",
       "<style scoped>\n",
       "    .dataframe tbody tr th:only-of-type {\n",
       "        vertical-align: middle;\n",
       "    }\n",
       "\n",
       "    .dataframe tbody tr th {\n",
       "        vertical-align: top;\n",
       "    }\n",
       "\n",
       "    .dataframe thead th {\n",
       "        text-align: right;\n",
       "    }\n",
       "</style>\n",
       "<table border=\"1\" class=\"dataframe\">\n",
       "  <thead>\n",
       "    <tr style=\"text-align: right;\">\n",
       "      <th></th>\n",
       "      <th>Symbol</th>\n",
       "      <th>Sector</th>\n",
       "      <th>Close</th>\n",
       "      <th>MACD_12_26_9</th>\n",
       "      <th>MACDh_12_26_9</th>\n",
       "      <th>MACDs_12_26_9</th>\n",
       "      <th>MFI_14</th>\n",
       "      <th>STOCHk_14_3_3</th>\n",
       "      <th>STOCHd_14_3_3</th>\n",
       "      <th>RSI_14</th>\n",
       "      <th>...</th>\n",
       "      <th>industry_macds_12_26</th>\n",
       "      <th>sp500_future_macd_12_252</th>\n",
       "      <th>sp500_future_macdh_12_252</th>\n",
       "      <th>sp500_future_macds_12_252</th>\n",
       "      <th>dollar_index_macd_12_252</th>\n",
       "      <th>dollar_index_macdh_12_252</th>\n",
       "      <th>dollar_index_macds_12_252</th>\n",
       "      <th>constant_maturity_macd_12_26</th>\n",
       "      <th>constant_maturity_macdh_12_26</th>\n",
       "      <th>constant_maturity_macds_12_26</th>\n",
       "    </tr>\n",
       "  </thead>\n",
       "  <tbody>\n",
       "    <tr>\n",
       "      <th>2018-01-12</th>\n",
       "      <td>AAPL</td>\n",
       "      <td>Information Technology</td>\n",
       "      <td>0.138911</td>\n",
       "      <td>0.603847</td>\n",
       "      <td>0.532401</td>\n",
       "      <td>0.560666</td>\n",
       "      <td>0.410778</td>\n",
       "      <td>0.879284</td>\n",
       "      <td>0.801173</td>\n",
       "      <td>0.666358</td>\n",
       "      <td>...</td>\n",
       "      <td>0.737706</td>\n",
       "      <td>0.929246</td>\n",
       "      <td>0.760467</td>\n",
       "      <td>0.911928</td>\n",
       "      <td>0.197569</td>\n",
       "      <td>0.253106</td>\n",
       "      <td>0.219259</td>\n",
       "      <td>0.271195</td>\n",
       "      <td>0.470645</td>\n",
       "      <td>0.227030</td>\n",
       "    </tr>\n",
       "    <tr>\n",
       "      <th>2018-01-16</th>\n",
       "      <td>AAPL</td>\n",
       "      <td>Information Technology</td>\n",
       "      <td>0.135329</td>\n",
       "      <td>0.606318</td>\n",
       "      <td>0.533065</td>\n",
       "      <td>0.563201</td>\n",
       "      <td>0.514713</td>\n",
       "      <td>0.858802</td>\n",
       "      <td>0.848522</td>\n",
       "      <td>0.609731</td>\n",
       "      <td>...</td>\n",
       "      <td>0.742704</td>\n",
       "      <td>0.946730</td>\n",
       "      <td>0.759739</td>\n",
       "      <td>0.930947</td>\n",
       "      <td>0.172437</td>\n",
       "      <td>0.215096</td>\n",
       "      <td>0.201836</td>\n",
       "      <td>0.254559</td>\n",
       "      <td>0.395169</td>\n",
       "      <td>0.246413</td>\n",
       "    </tr>\n",
       "    <tr>\n",
       "      <th>2018-01-17</th>\n",
       "      <td>AAPL</td>\n",
       "      <td>Information Technology</td>\n",
       "      <td>0.146911</td>\n",
       "      <td>0.614925</td>\n",
       "      <td>0.546421</td>\n",
       "      <td>0.567198</td>\n",
       "      <td>0.663402</td>\n",
       "      <td>0.886109</td>\n",
       "      <td>0.876153</td>\n",
       "      <td>0.711919</td>\n",
       "      <td>...</td>\n",
       "      <td>0.748782</td>\n",
       "      <td>0.952597</td>\n",
       "      <td>0.760749</td>\n",
       "      <td>0.936906</td>\n",
       "      <td>0.156438</td>\n",
       "      <td>0.195129</td>\n",
       "      <td>0.189547</td>\n",
       "      <td>0.251457</td>\n",
       "      <td>0.379644</td>\n",
       "      <td>0.250784</td>\n",
       "    </tr>\n",
       "    <tr>\n",
       "      <th>2018-01-18</th>\n",
       "      <td>AAPL</td>\n",
       "      <td>Information Technology</td>\n",
       "      <td>0.147548</td>\n",
       "      <td>0.621544</td>\n",
       "      <td>0.552950</td>\n",
       "      <td>0.571909</td>\n",
       "      <td>0.769375</td>\n",
       "      <td>0.871136</td>\n",
       "      <td>0.873341</td>\n",
       "      <td>0.716918</td>\n",
       "      <td>...</td>\n",
       "      <td>0.755246</td>\n",
       "      <td>0.955697</td>\n",
       "      <td>0.754510</td>\n",
       "      <td>0.942338</td>\n",
       "      <td>0.142036</td>\n",
       "      <td>0.184213</td>\n",
       "      <td>0.176485</td>\n",
       "      <td>0.276032</td>\n",
       "      <td>0.418213</td>\n",
       "      <td>0.260184</td>\n",
       "    </tr>\n",
       "    <tr>\n",
       "      <th>2018-01-19</th>\n",
       "      <td>AAPL</td>\n",
       "      <td>Information Technology</td>\n",
       "      <td>0.144364</td>\n",
       "      <td>0.624191</td>\n",
       "      <td>0.549873</td>\n",
       "      <td>0.576284</td>\n",
       "      <td>0.652243</td>\n",
       "      <td>0.926870</td>\n",
       "      <td>0.896835</td>\n",
       "      <td>0.665046</td>\n",
       "      <td>...</td>\n",
       "      <td>0.761613</td>\n",
       "      <td>0.960609</td>\n",
       "      <td>0.754135</td>\n",
       "      <td>0.947739</td>\n",
       "      <td>0.131017</td>\n",
       "      <td>0.186203</td>\n",
       "      <td>0.163563</td>\n",
       "      <td>0.301357</td>\n",
       "      <td>0.450448</td>\n",
       "      <td>0.273786</td>\n",
       "    </tr>\n",
       "  </tbody>\n",
       "</table>\n",
       "<p>5 rows × 27 columns</p>\n",
       "</div>"
      ],
      "text/plain": [
       "           Symbol                  Sector     Close  MACD_12_26_9  \\\n",
       "2018-01-12   AAPL  Information Technology  0.138911      0.603847   \n",
       "2018-01-16   AAPL  Information Technology  0.135329      0.606318   \n",
       "2018-01-17   AAPL  Information Technology  0.146911      0.614925   \n",
       "2018-01-18   AAPL  Information Technology  0.147548      0.621544   \n",
       "2018-01-19   AAPL  Information Technology  0.144364      0.624191   \n",
       "\n",
       "            MACDh_12_26_9  MACDs_12_26_9    MFI_14  STOCHk_14_3_3  \\\n",
       "2018-01-12       0.532401       0.560666  0.410778       0.879284   \n",
       "2018-01-16       0.533065       0.563201  0.514713       0.858802   \n",
       "2018-01-17       0.546421       0.567198  0.663402       0.886109   \n",
       "2018-01-18       0.552950       0.571909  0.769375       0.871136   \n",
       "2018-01-19       0.549873       0.576284  0.652243       0.926870   \n",
       "\n",
       "            STOCHd_14_3_3    RSI_14  ...  industry_macds_12_26  \\\n",
       "2018-01-12       0.801173  0.666358  ...              0.737706   \n",
       "2018-01-16       0.848522  0.609731  ...              0.742704   \n",
       "2018-01-17       0.876153  0.711919  ...              0.748782   \n",
       "2018-01-18       0.873341  0.716918  ...              0.755246   \n",
       "2018-01-19       0.896835  0.665046  ...              0.761613   \n",
       "\n",
       "            sp500_future_macd_12_252  sp500_future_macdh_12_252  \\\n",
       "2018-01-12                  0.929246                   0.760467   \n",
       "2018-01-16                  0.946730                   0.759739   \n",
       "2018-01-17                  0.952597                   0.760749   \n",
       "2018-01-18                  0.955697                   0.754510   \n",
       "2018-01-19                  0.960609                   0.754135   \n",
       "\n",
       "            sp500_future_macds_12_252  dollar_index_macd_12_252  \\\n",
       "2018-01-12                   0.911928                  0.197569   \n",
       "2018-01-16                   0.930947                  0.172437   \n",
       "2018-01-17                   0.936906                  0.156438   \n",
       "2018-01-18                   0.942338                  0.142036   \n",
       "2018-01-19                   0.947739                  0.131017   \n",
       "\n",
       "            dollar_index_macdh_12_252  dollar_index_macds_12_252  \\\n",
       "2018-01-12                   0.253106                   0.219259   \n",
       "2018-01-16                   0.215096                   0.201836   \n",
       "2018-01-17                   0.195129                   0.189547   \n",
       "2018-01-18                   0.184213                   0.176485   \n",
       "2018-01-19                   0.186203                   0.163563   \n",
       "\n",
       "            constant_maturity_macd_12_26  constant_maturity_macdh_12_26  \\\n",
       "2018-01-12                      0.271195                       0.470645   \n",
       "2018-01-16                      0.254559                       0.395169   \n",
       "2018-01-17                      0.251457                       0.379644   \n",
       "2018-01-18                      0.276032                       0.418213   \n",
       "2018-01-19                      0.301357                       0.450448   \n",
       "\n",
       "            constant_maturity_macds_12_26  \n",
       "2018-01-12                       0.227030  \n",
       "2018-01-16                       0.246413  \n",
       "2018-01-17                       0.250784  \n",
       "2018-01-18                       0.260184  \n",
       "2018-01-19                       0.273786  \n",
       "\n",
       "[5 rows x 27 columns]"
      ]
     },
     "execution_count": 9,
     "metadata": {},
     "output_type": "execute_result"
    }
   ],
   "source": [
    "X_train_split[combined_indicators] = X_scaler.transform(X_train_split[combined_indicators])\n",
    "X_valid_split[combined_indicators] = X_scaler.transform(X_valid_split[combined_indicators])\n",
    "X_train_split.head()"
   ]
  },
  {
   "cell_type": "code",
   "execution_count": 10,
   "id": "643d6341",
   "metadata": {},
   "outputs": [
    {
     "data": {
      "text/html": [
       "<div>\n",
       "<style scoped>\n",
       "    .dataframe tbody tr th:only-of-type {\n",
       "        vertical-align: middle;\n",
       "    }\n",
       "\n",
       "    .dataframe tbody tr th {\n",
       "        vertical-align: top;\n",
       "    }\n",
       "\n",
       "    .dataframe thead th {\n",
       "        text-align: right;\n",
       "    }\n",
       "</style>\n",
       "<table border=\"1\" class=\"dataframe\">\n",
       "  <thead>\n",
       "    <tr style=\"text-align: right;\">\n",
       "      <th></th>\n",
       "      <th>Symbol</th>\n",
       "      <th>Sector</th>\n",
       "      <th>Close_after_1_day</th>\n",
       "    </tr>\n",
       "  </thead>\n",
       "  <tbody>\n",
       "    <tr>\n",
       "      <th>2018-01-12</th>\n",
       "      <td>AAPL</td>\n",
       "      <td>Information Technology</td>\n",
       "      <td>0.135329</td>\n",
       "    </tr>\n",
       "    <tr>\n",
       "      <th>2018-01-16</th>\n",
       "      <td>AAPL</td>\n",
       "      <td>Information Technology</td>\n",
       "      <td>0.146911</td>\n",
       "    </tr>\n",
       "    <tr>\n",
       "      <th>2018-01-17</th>\n",
       "      <td>AAPL</td>\n",
       "      <td>Information Technology</td>\n",
       "      <td>0.147548</td>\n",
       "    </tr>\n",
       "    <tr>\n",
       "      <th>2018-01-18</th>\n",
       "      <td>AAPL</td>\n",
       "      <td>Information Technology</td>\n",
       "      <td>0.144364</td>\n",
       "    </tr>\n",
       "    <tr>\n",
       "      <th>2018-01-19</th>\n",
       "      <td>AAPL</td>\n",
       "      <td>Information Technology</td>\n",
       "      <td>0.138553</td>\n",
       "    </tr>\n",
       "  </tbody>\n",
       "</table>\n",
       "</div>"
      ],
      "text/plain": [
       "           Symbol                  Sector  Close_after_1_day\n",
       "2018-01-12   AAPL  Information Technology           0.135329\n",
       "2018-01-16   AAPL  Information Technology           0.146911\n",
       "2018-01-17   AAPL  Information Technology           0.147548\n",
       "2018-01-18   AAPL  Information Technology           0.144364\n",
       "2018-01-19   AAPL  Information Technology           0.138553"
      ]
     },
     "execution_count": 10,
     "metadata": {},
     "output_type": "execute_result"
    }
   ],
   "source": [
    "y_train_split.loc[: ,horizons] = y_scaler.transform(y_train_split.loc[: ,horizons])\n",
    "y_valid_split.loc[: ,horizons] = y_scaler.transform(y_valid_split.loc[: ,horizons])\n",
    "y_train_split.head()"
   ]
  },
  {
   "cell_type": "code",
   "execution_count": 18,
   "id": "9b90b28e",
   "metadata": {
    "scrolled": true
   },
   "outputs": [
    {
     "name": "stdout",
     "output_type": "stream",
     "text": [
      "\n",
      "RMSE using Technical Indicators to Predict Price by SVR\n",
      "0.33649892128762315\n"
     ]
    },
    {
     "data": {
      "image/png": "[encoded data removed]",
      "text/plain": [
       "<Figure size 864x576 with 1 Axes>"
      ]
     },
     "metadata": {
      "needs_background": "light"
     },
     "output_type": "display_data"
    }
   ],
   "source": [
    "plt.figure(figsize=(12,8))\n",
    "svr = SVR(C=0.3, kernel='poly', gamma=3, max_iter=1000000)\n",
    "svr.fit(X_train_split[technical_indicators], y_train_split['Close_after_1_day'])\n",
    "preds_train = svr.predict(X_train_split[technical_indicators])\n",
    "preds_valid = svr.predict(X_valid_split[technical_indicators])\n",
    "print_score(\"Technical Indicators\", horizons, \"SVR\", y_valid_split, preds_valid)\n",
    "plot_prediction(\"Technical Indicators\", horizons, \"SVR\", y_scaler, y_train_split, y_valid_split, preds_train, preds_valid)"
   ]
  },
  {
   "cell_type": "markdown",
   "id": "1b47de23",
   "metadata": {},
   "source": [
    "### Selection of regularization coefficient C"
   ]
  },
  {
   "cell_type": "code",
   "execution_count": 14,
   "id": "13f7ae97",
   "metadata": {},
   "outputs": [
    {
     "name": "stdout",
     "output_type": "stream",
     "text": [
      "c:0.001, mean:0.3242164356109655\n",
      "c:0.003, mean:0.3150721155304544\n",
      "c:0.01, mean:0.3126298341097482\n",
      "c:0.03, mean:0.327317158802271\n",
      "c:0.1, mean:0.3240173326260631\n",
      "c:0.3, mean:0.3013594499687883\n"
     ]
    }
   ],
   "source": [
    "c_range = [0.001, 0.003, 0.01, 0.03, 0.1, 0.3]\n",
    "rms_mean = []\n",
    "\n",
    "# C = 1/lamda: larger C causes overfitting, smaller C causes underfitting\n",
    "for c in c_range:\n",
    "    svr = SVR(C=c, kernel='poly', max_iter=1000000)\n",
    "    rms = []\n",
    "    \n",
    "    svr.fit(X_train_split[technical_indicators], y_train_split['Close_after_1_day'])\n",
    "    rms.append(score(horizons, y_valid_split, svr.predict(X_valid_split[technical_indicators])))\n",
    "    svr.fit(X_train_split[fundamental_indicators], y_train_split['Close_after_1_day'])\n",
    "    rms.append(score(horizons, y_valid_split, svr.predict(X_valid_split[fundamental_indicators])))\n",
    "    svr.fit(X_train_split[combined_indicators], y_train_split['Close_after_1_day'])\n",
    "    rms.append(score(horizons, y_valid_split, svr.predict(X_valid_split[combined_indicators])))\n",
    "        \n",
    "    print(\"c:\"+str(c)+\", mean:\"+str(np.mean(rms)))\n",
    "        \n",
    "    rms_mean.append(np.mean(rms))"
   ]
  },
  {
   "cell_type": "code",
   "execution_count": 15,
   "id": "c6173b69",
   "metadata": {},
   "outputs": [
    {
     "data": {
      "text/plain": [
       "<function matplotlib.pyplot.show(close=None, block=None)>"
      ]
     },
     "execution_count": 15,
     "metadata": {},
     "output_type": "execute_result"
    },
    {
     "data": {
      "image/png": "[encoded data removed]",
      "text/plain": [
       "<Figure size 720x432 with 1 Axes>"
      ]
     },
     "metadata": {
      "needs_background": "light"
     },
     "output_type": "display_data"
    }
   ],
   "source": [
    "# Plot\n",
    "plt.figure(figsize = (10, 6))\n",
    "plt.plot(c_range, rms_mean, linestyle = '-.', linewidth = 2, color = 'r', alpha = 0.6, marker = 'o', markersize = 4)\n",
    "plt.xlabel('C parameter of SVM')\n",
    "plt.ylabel('RMSE')\n",
    "plt.show"
   ]
  },
  {
   "cell_type": "markdown",
   "id": "a87c5985",
   "metadata": {},
   "source": [
    "### Selection of activation function"
   ]
  },
  {
   "cell_type": "code",
   "execution_count": 12,
   "id": "4c69dbe4",
   "metadata": {},
   "outputs": [
    {
     "name": "stdout",
     "output_type": "stream",
     "text": [
      "kernel:linear, mean:0.4205980529883573\n",
      "kernel:poly, mean:0.323184794580103\n",
      "kernel:rbf, mean:0.8559560735250606\n"
     ]
    }
   ],
   "source": [
    "kernels = ['linear', 'poly', 'rbf']\n",
    "rms_mean = []\n",
    "\n",
    "for kernel in kernels:\n",
    "    svr = SVR(C=0.02, kernel=kernel, max_iter=1000000)\n",
    "    rms = []\n",
    "    \n",
    "    svr.fit(X_train_split[technical_indicators], y_train_split['Close_after_1_day'])\n",
    "    rms.append(score(horizons, y_valid_split, svr.predict(X_valid_split[technical_indicators])))\n",
    "    svr.fit(X_train_split[fundamental_indicators], y_train_split['Close_after_1_day'])\n",
    "    rms.append(score(horizons, y_valid_split, svr.predict(X_valid_split[fundamental_indicators])))\n",
    "    svr.fit(X_train_split[combined_indicators], y_train_split['Close_after_1_day'])\n",
    "    rms.append(score(horizons, y_valid_split, svr.predict(X_valid_split[combined_indicators])))\n",
    "    \n",
    "    print(\"kernel:\"+str(kernel)+\", mean:\"+str(np.mean(rms)))\n",
    "        \n",
    "    rms_mean.append(np.mean(rms))"
   ]
  },
  {
   "cell_type": "code",
   "execution_count": 13,
   "id": "1c34a938",
   "metadata": {
    "scrolled": true
   },
   "outputs": [
    {
     "data": {
      "text/plain": [
       "Text(0, 0.5, 'RMSE')"
      ]
     },
     "execution_count": 13,
     "metadata": {},
     "output_type": "execute_result"
    },
    {
     "data": {
      "image/png": "[encoded data removed]",
      "text/plain": [
       "<Figure size 720x432 with 1 Axes>"
      ]
     },
     "metadata": {
      "needs_background": "light"
     },
     "output_type": "display_data"
    }
   ],
   "source": [
    "# Plot\n",
    "plt.figure(figsize = (10, 6))\n",
    "plt.plot(kernels, rms_mean, linestyle = '-.', linewidth = 2, color = 'r', alpha = 0.6, marker = 'o', markersize = 4)\n",
    "plt.xlabel('Kernel of SVM')\n",
    "plt.ylabel('RMSE')"
   ]
  },
  {
   "cell_type": "markdown",
   "id": "cf85f0ac",
   "metadata": {},
   "source": [
    "### Selection of gamma parameters in rbf"
   ]
  },
  {
   "cell_type": "code",
   "execution_count": 16,
   "id": "2e5ff259",
   "metadata": {},
   "outputs": [
    {
     "name": "stdout",
     "output_type": "stream",
     "text": [
      "gamma:0.1, mean:0.38619549852642\n",
      "gamma:0.3, mean:0.2955322601347005\n",
      "gamma:1, mean:0.3250202065739247\n",
      "gamma:3, mean:0.24971205401303856\n",
      "gamma:10, mean:0.24980483780070695\n"
     ]
    }
   ],
   "source": [
    "gamma_range = [0.1, 0.3, 1, 3, 10]\n",
    "rms_mean = []\n",
    "\n",
    "for gamma in gamma_range:\n",
    "    svr = SVR(C=0.3, kernel='poly', gamma=gamma, max_iter=1000000)\n",
    "    rms = []\n",
    "    \n",
    "    svr.fit(X_train_split[technical_indicators], y_train_split['Close_after_1_day'])\n",
    "    rms.append(score(horizons, y_valid_split, svr.predict(X_valid_split[technical_indicators])))\n",
    "    svr.fit(X_train_split[fundamental_indicators], y_train_split['Close_after_1_day'])\n",
    "    rms.append(score(horizons, y_valid_split, svr.predict(X_valid_split[fundamental_indicators])))\n",
    "    svr.fit(X_train_split[combined_indicators], y_train_split['Close_after_1_day'])\n",
    "    rms.append(score(horizons, y_valid_split, svr.predict(X_valid_split[combined_indicators])))\n",
    "    \n",
    "    print(\"gamma:\"+str(gamma)+\", mean:\"+str(np.mean(rms)))\n",
    "        \n",
    "    rms_mean.append(np.mean(rms))"
   ]
  },
  {
   "cell_type": "code",
   "execution_count": 17,
   "id": "93ca4efe",
   "metadata": {
    "scrolled": true
   },
   "outputs": [
    {
     "data": {
      "text/plain": [
       "Text(0, 0.5, 'RMSE')"
      ]
     },
     "execution_count": 17,
     "metadata": {},
     "output_type": "execute_result"
    },
    {
     "data": {
      "image/png": "[encoded data removed]",
      "text/plain": [
       "<Figure size 720x432 with 1 Axes>"
      ]
     },
     "metadata": {
      "needs_background": "light"
     },
     "output_type": "display_data"
    }
   ],
   "source": [
    "# Plot\n",
    "plt.figure(figsize = (10, 6))\n",
    "plt.plot(gamma_range, rms_mean, linestyle = '-.', linewidth = 2, color = 'r', alpha = 0.6, marker = 'o', markersize = 4)\n",
    "plt.xlabel('Gamma_range')\n",
    "plt.ylabel('RMSE')"
   ]
  },
  {
   "cell_type": "markdown",
   "id": "536ba7ac",
   "metadata": {},
   "source": [
    "# For all conpanies"
   ]
  },
  {
   "cell_type": "markdown",
   "id": "2396889b",
   "metadata": {},
   "source": [
    "## Find the best super parameters of SVR (C, kernel)"
   ]
  },
  {
   "cell_type": "code",
   "execution_count": 12,
   "id": "4673ebdf",
   "metadata": {},
   "outputs": [
    {
     "data": {
      "text/html": [
       "<div>\n",
       "<style scoped>\n",
       "    .dataframe tbody tr th:only-of-type {\n",
       "        vertical-align: middle;\n",
       "    }\n",
       "\n",
       "    .dataframe tbody tr th {\n",
       "        vertical-align: top;\n",
       "    }\n",
       "\n",
       "    .dataframe thead th {\n",
       "        text-align: right;\n",
       "    }\n",
       "</style>\n",
       "<table border=\"1\" class=\"dataframe\">\n",
       "  <thead>\n",
       "    <tr style=\"text-align: right;\">\n",
       "      <th></th>\n",
       "      <th>Symbol</th>\n",
       "      <th>Sector</th>\n",
       "    </tr>\n",
       "  </thead>\n",
       "  <tbody>\n",
       "    <tr>\n",
       "      <th>0</th>\n",
       "      <td>AAPL</td>\n",
       "      <td>Information Technology</td>\n",
       "    </tr>\n",
       "    <tr>\n",
       "      <th>1</th>\n",
       "      <td>ABBV</td>\n",
       "      <td>Health Care</td>\n",
       "    </tr>\n",
       "    <tr>\n",
       "      <th>2</th>\n",
       "      <td>ABT</td>\n",
       "      <td>Health Care</td>\n",
       "    </tr>\n",
       "    <tr>\n",
       "      <th>3</th>\n",
       "      <td>ACN</td>\n",
       "      <td>Information Technology</td>\n",
       "    </tr>\n",
       "    <tr>\n",
       "      <th>4</th>\n",
       "      <td>ADBE</td>\n",
       "      <td>Information Technology</td>\n",
       "    </tr>\n",
       "  </tbody>\n",
       "</table>\n",
       "</div>"
      ],
      "text/plain": [
       "  Symbol                  Sector\n",
       "0   AAPL  Information Technology\n",
       "1   ABBV             Health Care\n",
       "2    ABT             Health Care\n",
       "3    ACN  Information Technology\n",
       "4   ADBE  Information Technology"
      ]
     },
     "execution_count": 12,
     "metadata": {},
     "output_type": "execute_result"
    }
   ],
   "source": [
    "# Get the symbols of S&P 100\n",
    "tickers = load_stickers()\n",
    "tickers[:5]"
   ]
  },
  {
   "cell_type": "code",
   "execution_count": 13,
   "id": "d4c8e785",
   "metadata": {},
   "outputs": [
    {
     "data": {
      "text/plain": [
       "((79002, 27), (79002, 3), (63162, 27), (15840, 27), (63162, 3), (15840, 3))"
      ]
     },
     "execution_count": 13,
     "metadata": {},
     "output_type": "execute_result"
    }
   ],
   "source": [
    "# Training sets were further split into training and validation sets (using the 80-20 split and preserving chronological order)\n",
    "X_train_split = pd.DataFrame()\n",
    "X_valid_split = pd.DataFrame()\n",
    "y_train_split = pd.DataFrame()\n",
    "y_valid_split = pd.DataFrame()\n",
    "for ticker in tickers['Symbol']: \n",
    "    X_train_one = pd.DataFrame()\n",
    "    y_train_one = pd.DataFrame()\n",
    "    X_train_one = X_train.loc[X_train['Symbol'] == ticker]\n",
    "    y_train_one = y_train.loc[y_train['Symbol'] == ticker]\n",
    "    X_train_split = pd.concat([X_train_split, X_train_one.iloc[:int(4/5*(len(X_train_one)))]], axis=0)\n",
    "    X_valid_split = pd.concat([X_valid_split, X_train_one.iloc[int(4/5*(len(X_train_one))):]], axis=0)\n",
    "    y_train_split = pd.concat([y_train_split, y_train_one.iloc[:int(4/5*(len(y_train_one)))]], axis=0)\n",
    "    y_valid_split = pd.concat([y_valid_split, y_train_one.iloc[int(4/5*(len(y_train_one))):]], axis=0)\n",
    "X_train.shape, y_train.shape, X_train_split.shape, X_valid_split.shape, y_train_split.shape, y_valid_split.shape"
   ]
  },
  {
   "cell_type": "code",
   "execution_count": 14,
   "id": "d864934e",
   "metadata": {},
   "outputs": [
    {
     "data": {
      "text/plain": [
       "array([[0.01252742],\n",
       "       [0.01275505],\n",
       "       [0.01276756],\n",
       "       ...,\n",
       "       [0.01233421],\n",
       "       [0.01253446],\n",
       "       [0.01237175]])"
      ]
     },
     "execution_count": 14,
     "metadata": {},
     "output_type": "execute_result"
    }
   ],
   "source": [
    "# Normalizing the data set \n",
    "X_scaler = MinMaxScaler(feature_range=(0, 1))\n",
    "X_scaler.fit_transform(X_train_split[combined_indicators])\n",
    "y_scaler = MinMaxScaler(feature_range=(0, 1))\n",
    "y_scaler.fit_transform(y_train_split.loc[: ,horizons])"
   ]
  },
  {
   "cell_type": "code",
   "execution_count": 15,
   "id": "2e86afd4",
   "metadata": {},
   "outputs": [
    {
     "data": {
      "text/html": [
       "<div>\n",
       "<style scoped>\n",
       "    .dataframe tbody tr th:only-of-type {\n",
       "        vertical-align: middle;\n",
       "    }\n",
       "\n",
       "    .dataframe tbody tr th {\n",
       "        vertical-align: top;\n",
       "    }\n",
       "\n",
       "    .dataframe thead th {\n",
       "        text-align: right;\n",
       "    }\n",
       "</style>\n",
       "<table border=\"1\" class=\"dataframe\">\n",
       "  <thead>\n",
       "    <tr style=\"text-align: right;\">\n",
       "      <th></th>\n",
       "      <th>Symbol</th>\n",
       "      <th>Sector</th>\n",
       "      <th>Close</th>\n",
       "      <th>MACD_12_26_9</th>\n",
       "      <th>MACDh_12_26_9</th>\n",
       "      <th>MACDs_12_26_9</th>\n",
       "      <th>MFI_14</th>\n",
       "      <th>STOCHk_14_3_3</th>\n",
       "      <th>STOCHd_14_3_3</th>\n",
       "      <th>RSI_14</th>\n",
       "      <th>...</th>\n",
       "      <th>industry_macds_12_26</th>\n",
       "      <th>sp500_future_macd_12_252</th>\n",
       "      <th>sp500_future_macdh_12_252</th>\n",
       "      <th>sp500_future_macds_12_252</th>\n",
       "      <th>dollar_index_macd_12_252</th>\n",
       "      <th>dollar_index_macdh_12_252</th>\n",
       "      <th>dollar_index_macds_12_252</th>\n",
       "      <th>constant_maturity_macd_12_26</th>\n",
       "      <th>constant_maturity_macdh_12_26</th>\n",
       "      <th>constant_maturity_macds_12_26</th>\n",
       "    </tr>\n",
       "  </thead>\n",
       "  <tbody>\n",
       "    <tr>\n",
       "      <th>2018-01-12</th>\n",
       "      <td>AAPL</td>\n",
       "      <td>Information Technology</td>\n",
       "      <td>0.012598</td>\n",
       "      <td>0.521489</td>\n",
       "      <td>0.429121</td>\n",
       "      <td>0.522757</td>\n",
       "      <td>0.494486</td>\n",
       "      <td>0.870397</td>\n",
       "      <td>0.799289</td>\n",
       "      <td>0.644859</td>\n",
       "      <td>...</td>\n",
       "      <td>0.737706</td>\n",
       "      <td>0.929246</td>\n",
       "      <td>0.760467</td>\n",
       "      <td>0.911928</td>\n",
       "      <td>0.197569</td>\n",
       "      <td>0.253106</td>\n",
       "      <td>0.219259</td>\n",
       "      <td>0.271195</td>\n",
       "      <td>0.470645</td>\n",
       "      <td>0.227030</td>\n",
       "    </tr>\n",
       "    <tr>\n",
       "      <th>2018-01-16</th>\n",
       "      <td>AAPL</td>\n",
       "      <td>Information Technology</td>\n",
       "      <td>0.012527</td>\n",
       "      <td>0.521548</td>\n",
       "      <td>0.429145</td>\n",
       "      <td>0.522820</td>\n",
       "      <td>0.563877</td>\n",
       "      <td>0.850170</td>\n",
       "      <td>0.845032</td>\n",
       "      <td>0.600396</td>\n",
       "      <td>...</td>\n",
       "      <td>0.742704</td>\n",
       "      <td>0.946730</td>\n",
       "      <td>0.759739</td>\n",
       "      <td>0.930947</td>\n",
       "      <td>0.172437</td>\n",
       "      <td>0.215096</td>\n",
       "      <td>0.201836</td>\n",
       "      <td>0.254559</td>\n",
       "      <td>0.395169</td>\n",
       "      <td>0.246413</td>\n",
       "    </tr>\n",
       "    <tr>\n",
       "      <th>2018-01-17</th>\n",
       "      <td>AAPL</td>\n",
       "      <td>Information Technology</td>\n",
       "      <td>0.012755</td>\n",
       "      <td>0.521756</td>\n",
       "      <td>0.429614</td>\n",
       "      <td>0.522918</td>\n",
       "      <td>0.663147</td>\n",
       "      <td>0.877137</td>\n",
       "      <td>0.871726</td>\n",
       "      <td>0.680633</td>\n",
       "      <td>...</td>\n",
       "      <td>0.748782</td>\n",
       "      <td>0.952597</td>\n",
       "      <td>0.760749</td>\n",
       "      <td>0.936906</td>\n",
       "      <td>0.156438</td>\n",
       "      <td>0.195129</td>\n",
       "      <td>0.189547</td>\n",
       "      <td>0.251457</td>\n",
       "      <td>0.379644</td>\n",
       "      <td>0.250784</td>\n",
       "    </tr>\n",
       "    <tr>\n",
       "      <th>2018-01-18</th>\n",
       "      <td>AAPL</td>\n",
       "      <td>Information Technology</td>\n",
       "      <td>0.012768</td>\n",
       "      <td>0.521916</td>\n",
       "      <td>0.429843</td>\n",
       "      <td>0.523034</td>\n",
       "      <td>0.733899</td>\n",
       "      <td>0.862350</td>\n",
       "      <td>0.869008</td>\n",
       "      <td>0.684558</td>\n",
       "      <td>...</td>\n",
       "      <td>0.755246</td>\n",
       "      <td>0.955697</td>\n",
       "      <td>0.754510</td>\n",
       "      <td>0.942338</td>\n",
       "      <td>0.142036</td>\n",
       "      <td>0.184213</td>\n",
       "      <td>0.176485</td>\n",
       "      <td>0.276032</td>\n",
       "      <td>0.418213</td>\n",
       "      <td>0.260184</td>\n",
       "    </tr>\n",
       "    <tr>\n",
       "      <th>2018-01-19</th>\n",
       "      <td>AAPL</td>\n",
       "      <td>Information Technology</td>\n",
       "      <td>0.012705</td>\n",
       "      <td>0.521980</td>\n",
       "      <td>0.429735</td>\n",
       "      <td>0.523141</td>\n",
       "      <td>0.655697</td>\n",
       "      <td>0.917391</td>\n",
       "      <td>0.891706</td>\n",
       "      <td>0.643829</td>\n",
       "      <td>...</td>\n",
       "      <td>0.761613</td>\n",
       "      <td>0.960609</td>\n",
       "      <td>0.754135</td>\n",
       "      <td>0.947739</td>\n",
       "      <td>0.131017</td>\n",
       "      <td>0.186203</td>\n",
       "      <td>0.163563</td>\n",
       "      <td>0.301357</td>\n",
       "      <td>0.450448</td>\n",
       "      <td>0.273786</td>\n",
       "    </tr>\n",
       "  </tbody>\n",
       "</table>\n",
       "<p>5 rows × 27 columns</p>\n",
       "</div>"
      ],
      "text/plain": [
       "           Symbol                  Sector     Close  MACD_12_26_9  \\\n",
       "2018-01-12   AAPL  Information Technology  0.012598      0.521489   \n",
       "2018-01-16   AAPL  Information Technology  0.012527      0.521548   \n",
       "2018-01-17   AAPL  Information Technology  0.012755      0.521756   \n",
       "2018-01-18   AAPL  Information Technology  0.012768      0.521916   \n",
       "2018-01-19   AAPL  Information Technology  0.012705      0.521980   \n",
       "\n",
       "            MACDh_12_26_9  MACDs_12_26_9    MFI_14  STOCHk_14_3_3  \\\n",
       "2018-01-12       0.429121       0.522757  0.494486       0.870397   \n",
       "2018-01-16       0.429145       0.522820  0.563877       0.850170   \n",
       "2018-01-17       0.429614       0.522918  0.663147       0.877137   \n",
       "2018-01-18       0.429843       0.523034  0.733899       0.862350   \n",
       "2018-01-19       0.429735       0.523141  0.655697       0.917391   \n",
       "\n",
       "            STOCHd_14_3_3    RSI_14  ...  industry_macds_12_26  \\\n",
       "2018-01-12       0.799289  0.644859  ...              0.737706   \n",
       "2018-01-16       0.845032  0.600396  ...              0.742704   \n",
       "2018-01-17       0.871726  0.680633  ...              0.748782   \n",
       "2018-01-18       0.869008  0.684558  ...              0.755246   \n",
       "2018-01-19       0.891706  0.643829  ...              0.761613   \n",
       "\n",
       "            sp500_future_macd_12_252  sp500_future_macdh_12_252  \\\n",
       "2018-01-12                  0.929246                   0.760467   \n",
       "2018-01-16                  0.946730                   0.759739   \n",
       "2018-01-17                  0.952597                   0.760749   \n",
       "2018-01-18                  0.955697                   0.754510   \n",
       "2018-01-19                  0.960609                   0.754135   \n",
       "\n",
       "            sp500_future_macds_12_252  dollar_index_macd_12_252  \\\n",
       "2018-01-12                   0.911928                  0.197569   \n",
       "2018-01-16                   0.930947                  0.172437   \n",
       "2018-01-17                   0.936906                  0.156438   \n",
       "2018-01-18                   0.942338                  0.142036   \n",
       "2018-01-19                   0.947739                  0.131017   \n",
       "\n",
       "            dollar_index_macdh_12_252  dollar_index_macds_12_252  \\\n",
       "2018-01-12                   0.253106                   0.219259   \n",
       "2018-01-16                   0.215096                   0.201836   \n",
       "2018-01-17                   0.195129                   0.189547   \n",
       "2018-01-18                   0.184213                   0.176485   \n",
       "2018-01-19                   0.186203                   0.163563   \n",
       "\n",
       "            constant_maturity_macd_12_26  constant_maturity_macdh_12_26  \\\n",
       "2018-01-12                      0.271195                       0.470645   \n",
       "2018-01-16                      0.254559                       0.395169   \n",
       "2018-01-17                      0.251457                       0.379644   \n",
       "2018-01-18                      0.276032                       0.418213   \n",
       "2018-01-19                      0.301357                       0.450448   \n",
       "\n",
       "            constant_maturity_macds_12_26  \n",
       "2018-01-12                       0.227030  \n",
       "2018-01-16                       0.246413  \n",
       "2018-01-17                       0.250784  \n",
       "2018-01-18                       0.260184  \n",
       "2018-01-19                       0.273786  \n",
       "\n",
       "[5 rows x 27 columns]"
      ]
     },
     "execution_count": 15,
     "metadata": {},
     "output_type": "execute_result"
    }
   ],
   "source": [
    "X_train_split[combined_indicators] = X_scaler.transform(X_train_split[combined_indicators]).copy()\n",
    "X_valid_split[combined_indicators] = X_scaler.transform(X_valid_split[combined_indicators]).copy()\n",
    "X_train_split.head()"
   ]
  },
  {
   "cell_type": "code",
   "execution_count": 16,
   "id": "58093fb5",
   "metadata": {},
   "outputs": [
    {
     "data": {
      "text/html": [
       "<div>\n",
       "<style scoped>\n",
       "    .dataframe tbody tr th:only-of-type {\n",
       "        vertical-align: middle;\n",
       "    }\n",
       "\n",
       "    .dataframe tbody tr th {\n",
       "        vertical-align: top;\n",
       "    }\n",
       "\n",
       "    .dataframe thead th {\n",
       "        text-align: right;\n",
       "    }\n",
       "</style>\n",
       "<table border=\"1\" class=\"dataframe\">\n",
       "  <thead>\n",
       "    <tr style=\"text-align: right;\">\n",
       "      <th></th>\n",
       "      <th>Symbol</th>\n",
       "      <th>Sector</th>\n",
       "      <th>Close_after_1_day</th>\n",
       "    </tr>\n",
       "  </thead>\n",
       "  <tbody>\n",
       "    <tr>\n",
       "      <th>2018-01-12</th>\n",
       "      <td>AAPL</td>\n",
       "      <td>Information Technology</td>\n",
       "      <td>0.012527</td>\n",
       "    </tr>\n",
       "    <tr>\n",
       "      <th>2018-01-16</th>\n",
       "      <td>AAPL</td>\n",
       "      <td>Information Technology</td>\n",
       "      <td>0.012755</td>\n",
       "    </tr>\n",
       "    <tr>\n",
       "      <th>2018-01-17</th>\n",
       "      <td>AAPL</td>\n",
       "      <td>Information Technology</td>\n",
       "      <td>0.012768</td>\n",
       "    </tr>\n",
       "    <tr>\n",
       "      <th>2018-01-18</th>\n",
       "      <td>AAPL</td>\n",
       "      <td>Information Technology</td>\n",
       "      <td>0.012705</td>\n",
       "    </tr>\n",
       "    <tr>\n",
       "      <th>2018-01-19</th>\n",
       "      <td>AAPL</td>\n",
       "      <td>Information Technology</td>\n",
       "      <td>0.012591</td>\n",
       "    </tr>\n",
       "  </tbody>\n",
       "</table>\n",
       "</div>"
      ],
      "text/plain": [
       "           Symbol                  Sector  Close_after_1_day\n",
       "2018-01-12   AAPL  Information Technology           0.012527\n",
       "2018-01-16   AAPL  Information Technology           0.012755\n",
       "2018-01-17   AAPL  Information Technology           0.012768\n",
       "2018-01-18   AAPL  Information Technology           0.012705\n",
       "2018-01-19   AAPL  Information Technology           0.012591"
      ]
     },
     "execution_count": 16,
     "metadata": {},
     "output_type": "execute_result"
    }
   ],
   "source": [
    "y_train_split.loc[: ,horizons] = y_scaler.transform(y_train_split.loc[: ,horizons]).copy()\n",
    "y_valid_split.loc[: ,horizons] = y_scaler.transform(y_valid_split.loc[: ,horizons]).copy()\n",
    "y_train_split.head()"
   ]
  },
  {
   "cell_type": "markdown",
   "id": "9ee41a91",
   "metadata": {},
   "source": [
    "### Selection of regularization coefficient C"
   ]
  },
  {
   "cell_type": "code",
   "execution_count": 19,
   "id": "380838f4",
   "metadata": {},
   "outputs": [
    {
     "name": "stdout",
     "output_type": "stream",
     "text": [
      "c:0.001, mean:0.04218878277283228\n",
      "c:0.003, mean:0.04644056913499609\n",
      "c:0.01, mean:0.05089690260946959\n",
      "c:0.03, mean:0.04949929412742643\n",
      "c:0.1, mean:0.05179190667626401\n",
      "c:0.3, mean:0.05224629886473029\n"
     ]
    }
   ],
   "source": [
    "c_range = [0.001, 0.003, 0.01, 0.03, 0.1, 0.3]\n",
    "rms_mean = []\n",
    "\n",
    "# C = 1/lamda: larger C causes overfitting, smaller C causes underfitting\n",
    "for c in c_range:\n",
    "    svr = SVR(C=c, kernel='poly', max_iter=1000000)\n",
    "    rms = []\n",
    "    \n",
    "    svr.fit(X_train_split[technical_indicators], y_train_split['Close_after_1_day'])\n",
    "    rms.append(score(horizons, y_valid_split, svr.predict(X_valid_split[technical_indicators])))\n",
    "    svr.fit(X_train_split[fundamental_indicators], y_train_split['Close_after_1_day'])\n",
    "    rms.append(score(horizons, y_valid_split, svr.predict(X_valid_split[fundamental_indicators])))\n",
    "    svr.fit(X_train_split[combined_indicators], y_train_split['Close_after_1_day'])\n",
    "    rms.append(score(horizons, y_valid_split, svr.predict(X_valid_split[combined_indicators])))\n",
    "    \n",
    "    print(\"c:\"+str(c)+\", mean:\"+str(np.mean(rms)))\n",
    "    \n",
    "    rms_mean.append(np.mean(rms))"
   ]
  },
  {
   "cell_type": "code",
   "execution_count": 20,
   "id": "6cdd4acb",
   "metadata": {
    "scrolled": true
   },
   "outputs": [
    {
     "data": {
      "text/plain": [
       "<function matplotlib.pyplot.show(close=None, block=None)>"
      ]
     },
     "execution_count": 20,
     "metadata": {},
     "output_type": "execute_result"
    },
    {
     "data": {
      "image/png": "[encoded data removed]",
      "text/plain": [
       "<Figure size 720x432 with 1 Axes>"
      ]
     },
     "metadata": {
      "needs_background": "light"
     },
     "output_type": "display_data"
    }
   ],
   "source": [
    "# Plot\n",
    "plt.figure(figsize = (10, 6))\n",
    "plt.plot(c_range, rms_mean, linestyle = '-.', linewidth = 2, color = 'r', alpha = 0.6, marker = 'o', markersize = 4)\n",
    "plt.xlabel('C parameter of SVM')\n",
    "plt.ylabel('RMSE')\n",
    "plt.show"
   ]
  },
  {
   "cell_type": "markdown",
   "id": "08be5fdb",
   "metadata": {},
   "source": [
    "### Selection of activation function"
   ]
  },
  {
   "cell_type": "code",
   "execution_count": 13,
   "id": "6d0a94d4",
   "metadata": {},
   "outputs": [
    {
     "name": "stdout",
     "output_type": "stream",
     "text": [
      "c:linear, mean:0.08407897717474859\n",
      "c:poly, mean:0.05194176584740633\n",
      "c:rbf, mean:0.08345102799010296\n"
     ]
    }
   ],
   "source": [
    "kernels = ['linear', 'poly', 'rbf']\n",
    "rms_mean = []\n",
    "\n",
    "for kernel in kernels:\n",
    "    svr = SVR(kernel=kernel, max_iter=1000000)\n",
    "    rms = []\n",
    "    \n",
    "    svr.fit(X_train_split[technical_indicators], y_train_split['Close_after_1_day'])\n",
    "    rms.append(score(horizons, y_valid_split, svr.predict(X_valid_split[technical_indicators])))\n",
    "    svr.fit(X_train_split[fundamental_indicators], y_train_split['Close_after_1_day'])\n",
    "    rms.append(score(horizons, y_valid_split, svr.predict(X_valid_split[fundamental_indicators])))\n",
    "    svr.fit(X_train_split[combined_indicators], y_train_split['Close_after_1_day'])\n",
    "    rms.append(score(horizons, y_valid_split, svr.predict(X_valid_split[combined_indicators])))\n",
    "    \n",
    "    print(\"c:\"+str(kernel)+\", mean:\"+str(np.mean(rms)))\n",
    "    \n",
    "    rms_mean.append(np.mean(rms))"
   ]
  },
  {
   "cell_type": "code",
   "execution_count": 14,
   "id": "f6445803",
   "metadata": {
    "scrolled": true
   },
   "outputs": [
    {
     "data": {
      "text/plain": [
       "Text(0, 0.5, 'RMSE')"
      ]
     },
     "execution_count": 14,
     "metadata": {},
     "output_type": "execute_result"
    },
    {
     "data": {
      "image/png": "[encoded data removed]",
      "text/plain": [
       "<Figure size 720x432 with 1 Axes>"
      ]
     },
     "metadata": {
      "needs_background": "light"
     },
     "output_type": "display_data"
    }
   ],
   "source": [
    "# Plot\n",
    "plt.figure(figsize = (10, 6))\n",
    "plt.plot(kernels, rms_mean, linestyle = '-.', linewidth = 2, color = 'r', alpha = 0.6, marker = 'o', markersize = 4)\n",
    "plt.xlabel('Kernel of SVM')\n",
    "plt.ylabel('RMSE')"
   ]
  },
  {
   "cell_type": "markdown",
   "id": "a8ed6142",
   "metadata": {},
   "source": [
    "### Selection of gamma parameters in rbf"
   ]
  },
  {
   "cell_type": "code",
   "execution_count": 24,
   "id": "c0462f7f",
   "metadata": {},
   "outputs": [
    {
     "name": "stdout",
     "output_type": "stream",
     "text": [
      "gamma:0.1, mean:0.12804611744725702\n",
      "gamma:0.3, mean:0.09224666774124246\n",
      "gamma:1, mean:0.040902024807128574\n",
      "gamma:3, mean:0.052186937126124745\n",
      "gamma:10, mean:0.052080238639424736\n"
     ]
    }
   ],
   "source": [
    "gamma_range = [0.1, 0.3, 1, 3, 10]\n",
    "rms_mean = []\n",
    "\n",
    "for gamma in gamma_range:\n",
    "    svr = SVR(C=0.001, kernel='poly', gamma=gamma, max_iter=1000000)\n",
    "    rms = []\n",
    "    \n",
    "    svr.fit(X_train_split[technical_indicators], y_train_split['Close_after_1_day'])\n",
    "    rms.append(score(horizons, y_valid_split, svr.predict(X_valid_split[technical_indicators])))\n",
    "    svr.fit(X_train_split[fundamental_indicators], y_train_split['Close_after_1_day'])\n",
    "    rms.append(score(horizons, y_valid_split, svr.predict(X_valid_split[fundamental_indicators])))\n",
    "    svr.fit(X_train_split[combined_indicators], y_train_split['Close_after_1_day'])\n",
    "    rms.append(score(horizons, y_valid_split, svr.predict(X_valid_split[combined_indicators])))\n",
    "    \n",
    "    print(\"gamma:\"+str(gamma)+\", mean:\"+str(np.mean(rms)))\n",
    "    \n",
    "    rms_mean.append(np.mean(rms))"
   ]
  },
  {
   "cell_type": "code",
   "execution_count": 25,
   "id": "d73d2668",
   "metadata": {
    "scrolled": true
   },
   "outputs": [
    {
     "data": {
      "text/plain": [
       "Text(0, 0.5, 'RMSE')"
      ]
     },
     "execution_count": 25,
     "metadata": {},
     "output_type": "execute_result"
    },
    {
     "data": {
      "image/png": "[encoded data removed]",
      "text/plain": [
       "<Figure size 720x432 with 1 Axes>"
      ]
     },
     "metadata": {
      "needs_background": "light"
     },
     "output_type": "display_data"
    }
   ],
   "source": [
    "# Plot\n",
    "plt.figure(figsize = (10, 6))\n",
    "plt.plot(gamma_range, rms_mean, linestyle = '-.', linewidth = 2, color = 'r', alpha = 0.6, marker = 'o', markersize = 4)\n",
    "plt.xlabel('Gamma_range')\n",
    "plt.ylabel('RMSE')"
   ]
  },
  {
   "cell_type": "code",
   "execution_count": null,
   "id": "7cb8e711",
   "metadata": {},
   "outputs": [],
   "source": []
  },
  {
   "cell_type": "code",
   "execution_count": null,
   "id": "e13c859a",
   "metadata": {},
   "outputs": [],
   "source": []
  }
 ],
 "metadata": {
  "kernelspec": {
   "display_name": "Python 3 (ipykernel)",
   "language": "python",
   "name": "python3"
  },
  "language_info": {
   "codemirror_mode": {
    "name": "ipython",
    "version": 3
   },
   "file_extension": ".py",
   "mimetype": "text/x-python",
   "name": "python",
   "nbconvert_exporter": "python",
   "pygments_lexer": "ipython3",
   "version": "3.8.3"
  }
 },
 "nbformat": 4,
 "nbformat_minor": 5
}
