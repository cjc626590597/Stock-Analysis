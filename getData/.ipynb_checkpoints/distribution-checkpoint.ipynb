{
 "cells": [
  {
   "cell_type": "code",
   "execution_count": 1,
   "id": "c1383f13",
   "metadata": {},
   "outputs": [],
   "source": [
    "#import packages\n",
    "import pandas as pd \n",
    "import numpy as np\n",
    "import matplotlib.pyplot as plt\n",
    "%matplotlib inline"
   ]
  },
  {
   "cell_type": "code",
   "execution_count": 17,
   "id": "2c1673e0",
   "metadata": {},
   "outputs": [
    {
     "data": {
      "text/plain": [
       "{'Communication Services': array(['CHTR', 'CMCSA', 'DIS', 'FB', 'GOOG', 'GOOGL', 'NFLX', 'T', 'TMUS',\n",
       "        'VZ'], dtype=object),\n",
       " 'Consumer Discretionary': array(['AMZN', 'BKNG', 'F', 'GM', 'HD', 'LOW', 'MCD', 'NKE', 'SBUX',\n",
       "        'TSLA'], dtype=object),\n",
       " 'Consumer Staples': array(['CL', 'COST', 'KHC', 'KO', 'MDLZ', 'MO', 'PEP', 'PG', 'PM', 'TGT',\n",
       "        'WBA', 'WMT'], dtype=object),\n",
       " 'Energy': array(['COP', 'CVX', 'XOM'], dtype=object),\n",
       " 'Financials': array(['AIG', 'AXP', 'BAC', 'BK', 'BLK', 'C', 'COF', 'GS', 'JPM', 'MA',\n",
       "        'MET', 'MS', 'PYPL', 'USB', 'V', 'WFC'], dtype=object),\n",
       " 'Health Care': array(['ABBV', 'ABT', 'AMGN', 'BIIB', 'BMY', 'CVS', 'DHR', 'GILD', 'JNJ',\n",
       "        'LLY', 'MDT', 'MRK', 'PFE', 'TMO', 'UNH'], dtype=object),\n",
       " 'Industrials': array(['BA', 'CAT', 'EMR', 'FDX', 'GD', 'GE', 'HON', 'LIN', 'LMT', 'MMM',\n",
       "        'RTX', 'UNP', 'UPS'], dtype=object),\n",
       " 'Information Technology': array(['AAPL', 'ACN', 'ADBE', 'AVGO', 'CRM', 'CSCO', 'IBM', 'INTC',\n",
       "        'MSFT', 'NVDA', 'ORCL', 'QCOM', 'TXN'], dtype=object),\n",
       " 'Materials': array(['DD'], dtype=object),\n",
       " 'Real Estate': array(['AMT', 'SPG'], dtype=object),\n",
       " 'Utilities': array(['DUK', 'EXC', 'NEE', 'SO'], dtype=object)}"
      ]
     },
     "execution_count": 17,
     "metadata": {},
     "output_type": "execute_result"
    }
   ],
   "source": [
    "dataset = pd.read_csv('../data/sp100tickers.csv', thousands=',')\n",
    "group = dataset.groupby(['Sector'])\n",
    "sertors_map = {}\n",
    "for sector, df in group:\n",
    "    symbols = df['Symbol'].ravel()\n",
    "    sertors_map[sector] = symbols\n",
    "sertors_map"
   ]
  },
  {
   "cell_type": "code",
   "execution_count": 15,
   "id": "880f70b8",
   "metadata": {},
   "outputs": [
    {
     "name": "stdout",
     "output_type": "stream",
     "text": [
      "Communication Services\n",
      "['CHTR' 'CMCSA' 'DIS' 'FB' 'GOOG' 'GOOGL' 'NFLX' 'T' 'TMUS' 'VZ']\n",
      "\n",
      "Consumer Discretionary\n",
      "['AMZN' 'BKNG' 'F' 'GM' 'HD' 'LOW' 'MCD' 'NKE' 'SBUX' 'TSLA']\n",
      "\n",
      "Consumer Staples\n",
      "['CL' 'COST' 'KHC' 'KO' 'MDLZ' 'MO' 'PEP' 'PG' 'PM' 'TGT' 'WBA' 'WMT']\n",
      "\n",
      "Energy\n",
      "['COP' 'CVX' 'XOM']\n",
      "\n",
      "Financials\n",
      "['AIG' 'AXP' 'BAC' 'BK' 'BLK' 'C' 'COF' 'GS' 'JPM' 'MA' 'MET' 'MS' 'PYPL'\n",
      " 'USB' 'V' 'WFC']\n",
      "\n",
      "Health Care\n",
      "['ABBV' 'ABT' 'AMGN' 'BIIB' 'BMY' 'CVS' 'DHR' 'GILD' 'JNJ' 'LLY' 'MDT'\n",
      " 'MRK' 'PFE' 'TMO' 'UNH']\n",
      "\n",
      "Industrials\n",
      "['BA' 'CAT' 'EMR' 'FDX' 'GD' 'GE' 'HON' 'LIN' 'LMT' 'MMM' 'RTX' 'UNP'\n",
      " 'UPS']\n",
      "\n",
      "Information Technology\n",
      "['AAPL' 'ACN' 'ADBE' 'AVGO' 'CRM' 'CSCO' 'IBM' 'INTC' 'MSFT' 'NVDA' 'ORCL'\n",
      " 'QCOM' 'TXN']\n",
      "\n",
      "Materials\n",
      "['DD']\n",
      "\n",
      "Real Estate\n",
      "['AMT' 'SPG']\n",
      "\n",
      "Utilities\n",
      "['DUK' 'EXC' 'NEE' 'SO']\n",
      "\n"
     ]
    }
   ],
   "source": []
  }
 ],
 "metadata": {
  "kernelspec": {
   "display_name": "Python [conda env:root] *",
   "language": "python",
   "name": "conda-root-py"
  },
  "language_info": {
   "codemirror_mode": {
    "name": "ipython",
    "version": 3
   },
   "file_extension": ".py",
   "mimetype": "text/x-python",
   "name": "python",
   "nbconvert_exporter": "python",
   "pygments_lexer": "ipython3",
   "version": "3.7.6"
  }
 },
 "nbformat": 4,
 "nbformat_minor": 5
}
