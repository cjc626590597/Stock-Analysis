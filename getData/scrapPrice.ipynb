{
 "cells": [
  {
   "cell_type": "code",
   "execution_count": null,
   "id": "2d1cff58",
   "metadata": {},
   "outputs": [],
   "source": [
    "# import packages\n",
    "import os\n",
    "import pandas as pd\n",
    "import yfinance as yf\n",
    "\n",
    "# Get all stock data of S&P 100 and save the results\n",
    "df = pd.read_csv('../data/sp100tickers.csv') # Get the symbols of S&P 100\n",
    "    tickers = df['Symbol'].to_list()\n",
    "    start = '2017-1-1'\n",
    "    end = '2021-12-31'\n",
    "    num = 0\n",
    "    for ticker in tickers:\n",
    "        num += 1\n",
    "        print(ticker)\n",
    "        if not os.path.exists('../data/technical data/{}.csv'.format(ticker)):\n",
    "            df = yf.download(ticker, start, end)\n",
    "            df.to_csv('../data/technical data/{}.csv'.format(ticker))\n",
    "            print(\"Downloading {0:>5}.csv...{1} / 101\".format(ticker, num))\n",
    "\n",
    "        else:\n",
    "            print(\"The file {0:>5}.csv has existed. {1}/101\".format(ticker, num))"
   ]
  },
  {
   "cell_type": "code",
   "execution_count": null,
   "id": "870890d5",
   "metadata": {},
   "outputs": [],
   "source": [
    "# data of BRK.B and DOW company is deleted manually due to insufficient data"
   ]
  }
 ],
 "metadata": {
  "kernelspec": {
   "display_name": "Python 3 (ipykernel)",
   "language": "python",
   "name": "python3"
  },
  "language_info": {
   "codemirror_mode": {
    "name": "ipython",
    "version": 3
   },
   "file_extension": ".py",
   "mimetype": "text/x-python",
   "name": "python",
   "nbconvert_exporter": "python",
   "pygments_lexer": "ipython3",
   "version": "3.8.3"
  }
 },
 "nbformat": 4,
 "nbformat_minor": 5
}
