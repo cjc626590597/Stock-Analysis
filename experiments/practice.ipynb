{
 "cells": [
  {
   "cell_type": "code",
   "execution_count": 3,
   "metadata": {},
   "outputs": [
    {
     "ename": "KeyError",
     "evalue": "'mode_reflect'",
     "output_type": "error",
     "traceback": [
      "\u001b[1;31m---------------------------------------------------------------------------\u001b[0m",
      "\u001b[1;31mKeyError\u001b[0m                                  Traceback (most recent call last)",
      "\u001b[1;32m<ipython-input-3-3c47c0ad7af1>\u001b[0m in \u001b[0;36m<module>\u001b[1;34m\u001b[0m\n\u001b[0;32m      3\u001b[0m \u001b[1;32mimport\u001b[0m \u001b[0mnumpy\u001b[0m \u001b[1;32mas\u001b[0m \u001b[0mnp\u001b[0m\u001b[1;33m\u001b[0m\u001b[1;33m\u001b[0m\u001b[0m\n\u001b[0;32m      4\u001b[0m \u001b[1;32mimport\u001b[0m \u001b[0mmatplotlib\u001b[0m\u001b[1;33m.\u001b[0m\u001b[0mpyplot\u001b[0m \u001b[1;32mas\u001b[0m \u001b[0mplt\u001b[0m\u001b[1;33m\u001b[0m\u001b[1;33m\u001b[0m\u001b[0m\n\u001b[1;32m----> 5\u001b[1;33m \u001b[1;32mfrom\u001b[0m \u001b[0msklearn\u001b[0m\u001b[1;33m.\u001b[0m\u001b[0mpreprocessing\u001b[0m \u001b[1;32mimport\u001b[0m \u001b[0mMinMaxScaler\u001b[0m\u001b[1;33m\u001b[0m\u001b[1;33m\u001b[0m\u001b[0m\n\u001b[0m\u001b[0;32m      6\u001b[0m \u001b[0mget_ipython\u001b[0m\u001b[1;33m(\u001b[0m\u001b[1;33m)\u001b[0m\u001b[1;33m.\u001b[0m\u001b[0mrun_line_magic\u001b[0m\u001b[1;33m(\u001b[0m\u001b[1;34m'matplotlib'\u001b[0m\u001b[1;33m,\u001b[0m \u001b[1;34m'inline'\u001b[0m\u001b[1;33m)\u001b[0m\u001b[1;33m\u001b[0m\u001b[1;33m\u001b[0m\u001b[0m\n\u001b[0;32m      7\u001b[0m \u001b[1;33m\u001b[0m\u001b[0m\n",
      "\u001b[1;32mD:\\Anaconda2020.07\\lib\\site-packages\\sklearn\\__init__.py\u001b[0m in \u001b[0;36m<module>\u001b[1;34m\u001b[0m\n\u001b[0;32m     80\u001b[0m     \u001b[1;32mfrom\u001b[0m \u001b[1;33m.\u001b[0m \u001b[1;32mimport\u001b[0m \u001b[0m_distributor_init\u001b[0m  \u001b[1;31m# noqa: F401\u001b[0m\u001b[1;33m\u001b[0m\u001b[1;33m\u001b[0m\u001b[0m\n\u001b[0;32m     81\u001b[0m     \u001b[1;32mfrom\u001b[0m \u001b[1;33m.\u001b[0m \u001b[1;32mimport\u001b[0m \u001b[0m__check_build\u001b[0m  \u001b[1;31m# noqa: F401\u001b[0m\u001b[1;33m\u001b[0m\u001b[1;33m\u001b[0m\u001b[0m\n\u001b[1;32m---> 82\u001b[1;33m     \u001b[1;32mfrom\u001b[0m \u001b[1;33m.\u001b[0m\u001b[0mbase\u001b[0m \u001b[1;32mimport\u001b[0m \u001b[0mclone\u001b[0m\u001b[1;33m\u001b[0m\u001b[1;33m\u001b[0m\u001b[0m\n\u001b[0m\u001b[0;32m     83\u001b[0m     \u001b[1;32mfrom\u001b[0m \u001b[1;33m.\u001b[0m\u001b[0mutils\u001b[0m\u001b[1;33m.\u001b[0m\u001b[0m_show_versions\u001b[0m \u001b[1;32mimport\u001b[0m \u001b[0mshow_versions\u001b[0m\u001b[1;33m\u001b[0m\u001b[1;33m\u001b[0m\u001b[0m\n\u001b[0;32m     84\u001b[0m \u001b[1;33m\u001b[0m\u001b[0m\n",
      "\u001b[1;32mD:\\Anaconda2020.07\\lib\\site-packages\\sklearn\\base.py\u001b[0m in \u001b[0;36m<module>\u001b[1;34m\u001b[0m\n\u001b[0;32m     15\u001b[0m \u001b[1;32mfrom\u001b[0m \u001b[1;33m.\u001b[0m \u001b[1;32mimport\u001b[0m \u001b[0m__version__\u001b[0m\u001b[1;33m\u001b[0m\u001b[1;33m\u001b[0m\u001b[0m\n\u001b[0;32m     16\u001b[0m \u001b[1;32mfrom\u001b[0m \u001b[1;33m.\u001b[0m\u001b[0m_config\u001b[0m \u001b[1;32mimport\u001b[0m \u001b[0mget_config\u001b[0m\u001b[1;33m\u001b[0m\u001b[1;33m\u001b[0m\u001b[0m\n\u001b[1;32m---> 17\u001b[1;33m \u001b[1;32mfrom\u001b[0m \u001b[1;33m.\u001b[0m\u001b[0mutils\u001b[0m \u001b[1;32mimport\u001b[0m \u001b[0m_IS_32BIT\u001b[0m\u001b[1;33m\u001b[0m\u001b[1;33m\u001b[0m\u001b[0m\n\u001b[0m\u001b[0;32m     18\u001b[0m from .utils._tags import (\n\u001b[0;32m     19\u001b[0m     \u001b[0m_DEFAULT_TAGS\u001b[0m\u001b[1;33m,\u001b[0m\u001b[1;33m\u001b[0m\u001b[1;33m\u001b[0m\u001b[0m\n",
      "\u001b[1;32mD:\\Anaconda2020.07\\lib\\site-packages\\sklearn\\utils\\__init__.py\u001b[0m in \u001b[0;36m<module>\u001b[1;34m\u001b[0m\n\u001b[0;32m     26\u001b[0m \u001b[1;32mfrom\u001b[0m \u001b[1;33m.\u001b[0m\u001b[1;33m.\u001b[0m\u001b[0mexceptions\u001b[0m \u001b[1;32mimport\u001b[0m \u001b[0mDataConversionWarning\u001b[0m\u001b[1;33m\u001b[0m\u001b[1;33m\u001b[0m\u001b[0m\n\u001b[0;32m     27\u001b[0m \u001b[1;32mfrom\u001b[0m \u001b[1;33m.\u001b[0m\u001b[0mdeprecation\u001b[0m \u001b[1;32mimport\u001b[0m \u001b[0mdeprecated\u001b[0m\u001b[1;33m\u001b[0m\u001b[1;33m\u001b[0m\u001b[0m\n\u001b[1;32m---> 28\u001b[1;33m \u001b[1;32mfrom\u001b[0m \u001b[1;33m.\u001b[0m\u001b[0mfixes\u001b[0m \u001b[1;32mimport\u001b[0m \u001b[0mnp_version\u001b[0m\u001b[1;33m,\u001b[0m \u001b[0mparse_version\u001b[0m\u001b[1;33m\u001b[0m\u001b[1;33m\u001b[0m\u001b[0m\n\u001b[0m\u001b[0;32m     29\u001b[0m \u001b[1;32mfrom\u001b[0m \u001b[1;33m.\u001b[0m\u001b[0m_estimator_html_repr\u001b[0m \u001b[1;32mimport\u001b[0m \u001b[0mestimator_html_repr\u001b[0m\u001b[1;33m\u001b[0m\u001b[1;33m\u001b[0m\u001b[0m\n\u001b[0;32m     30\u001b[0m from .validation import (\n",
      "\u001b[1;32mD:\\Anaconda2020.07\\lib\\site-packages\\sklearn\\utils\\fixes.py\u001b[0m in \u001b[0;36m<module>\u001b[1;34m\u001b[0m\n\u001b[0;32m     18\u001b[0m \u001b[1;32mimport\u001b[0m \u001b[0mscipy\u001b[0m\u001b[1;33m.\u001b[0m\u001b[0msparse\u001b[0m \u001b[1;32mas\u001b[0m \u001b[0msp\u001b[0m\u001b[1;33m\u001b[0m\u001b[1;33m\u001b[0m\u001b[0m\n\u001b[0;32m     19\u001b[0m \u001b[1;32mimport\u001b[0m \u001b[0mscipy\u001b[0m\u001b[1;33m\u001b[0m\u001b[1;33m\u001b[0m\u001b[0m\n\u001b[1;32m---> 20\u001b[1;33m \u001b[1;32mimport\u001b[0m \u001b[0mscipy\u001b[0m\u001b[1;33m.\u001b[0m\u001b[0mstats\u001b[0m\u001b[1;33m\u001b[0m\u001b[1;33m\u001b[0m\u001b[0m\n\u001b[0m\u001b[0;32m     21\u001b[0m \u001b[1;32mfrom\u001b[0m \u001b[0mscipy\u001b[0m\u001b[1;33m.\u001b[0m\u001b[0msparse\u001b[0m\u001b[1;33m.\u001b[0m\u001b[0mlinalg\u001b[0m \u001b[1;32mimport\u001b[0m \u001b[0mlsqr\u001b[0m \u001b[1;32mas\u001b[0m \u001b[0msparse_lsqr\u001b[0m  \u001b[1;31m# noqa\u001b[0m\u001b[1;33m\u001b[0m\u001b[1;33m\u001b[0m\u001b[0m\n\u001b[0;32m     22\u001b[0m \u001b[1;32mimport\u001b[0m \u001b[0mthreadpoolctl\u001b[0m\u001b[1;33m\u001b[0m\u001b[1;33m\u001b[0m\u001b[0m\n",
      "\u001b[1;32mD:\\Anaconda2020.07\\lib\\site-packages\\scipy\\stats\\__init__.py\u001b[0m in \u001b[0;36m<module>\u001b[1;34m\u001b[0m\n\u001b[0;32m    451\u001b[0m \"\"\"\n\u001b[0;32m    452\u001b[0m \u001b[1;33m\u001b[0m\u001b[0m\n\u001b[1;32m--> 453\u001b[1;33m \u001b[1;32mfrom\u001b[0m \u001b[1;33m.\u001b[0m\u001b[0m_stats_py\u001b[0m \u001b[1;32mimport\u001b[0m \u001b[1;33m*\u001b[0m\u001b[1;33m\u001b[0m\u001b[1;33m\u001b[0m\u001b[0m\n\u001b[0m\u001b[0;32m    454\u001b[0m \u001b[1;32mfrom\u001b[0m \u001b[1;33m.\u001b[0m\u001b[0m_variation\u001b[0m \u001b[1;32mimport\u001b[0m \u001b[0mvariation\u001b[0m\u001b[1;33m\u001b[0m\u001b[1;33m\u001b[0m\u001b[0m\n\u001b[0;32m    455\u001b[0m \u001b[1;32mfrom\u001b[0m \u001b[1;33m.\u001b[0m\u001b[0mdistributions\u001b[0m \u001b[1;32mimport\u001b[0m \u001b[1;33m*\u001b[0m\u001b[1;33m\u001b[0m\u001b[1;33m\u001b[0m\u001b[0m\n",
      "\u001b[1;32mD:\\Anaconda2020.07\\lib\\site-packages\\scipy\\stats\\_stats_py.py\u001b[0m in \u001b[0;36m<module>\u001b[1;34m\u001b[0m\n\u001b[0;32m     37\u001b[0m \u001b[1;33m\u001b[0m\u001b[0m\n\u001b[0;32m     38\u001b[0m \u001b[1;32mfrom\u001b[0m \u001b[0mscipy\u001b[0m\u001b[1;33m.\u001b[0m\u001b[0mspatial\u001b[0m\u001b[1;33m.\u001b[0m\u001b[0mdistance\u001b[0m \u001b[1;32mimport\u001b[0m \u001b[0mcdist\u001b[0m\u001b[1;33m\u001b[0m\u001b[1;33m\u001b[0m\u001b[0m\n\u001b[1;32m---> 39\u001b[1;33m \u001b[1;32mfrom\u001b[0m \u001b[0mscipy\u001b[0m\u001b[1;33m.\u001b[0m\u001b[0mndimage\u001b[0m \u001b[1;32mimport\u001b[0m \u001b[0m_measurements\u001b[0m\u001b[1;33m\u001b[0m\u001b[1;33m\u001b[0m\u001b[0m\n\u001b[0m\u001b[0;32m     40\u001b[0m from scipy._lib._util import (check_random_state, MapWrapper,\n\u001b[0;32m     41\u001b[0m                               rng_integers, float_factorial)\n",
      "\u001b[1;32mD:\\Anaconda2020.07\\lib\\site-packages\\scipy\\ndimage\\_measurements.py\u001b[0m in \u001b[0;36m<module>\u001b[1;34m\u001b[0m\n\u001b[0;32m     34\u001b[0m \u001b[1;32mfrom\u001b[0m \u001b[1;33m.\u001b[0m \u001b[1;32mimport\u001b[0m \u001b[0m_ni_label\u001b[0m\u001b[1;33m\u001b[0m\u001b[1;33m\u001b[0m\u001b[0m\n\u001b[0;32m     35\u001b[0m \u001b[1;32mfrom\u001b[0m \u001b[1;33m.\u001b[0m \u001b[1;32mimport\u001b[0m \u001b[0m_nd_image\u001b[0m\u001b[1;33m\u001b[0m\u001b[1;33m\u001b[0m\u001b[0m\n\u001b[1;32m---> 36\u001b[1;33m \u001b[1;32mfrom\u001b[0m \u001b[1;33m.\u001b[0m \u001b[1;32mimport\u001b[0m \u001b[0m_morphology\u001b[0m\u001b[1;33m\u001b[0m\u001b[1;33m\u001b[0m\u001b[0m\n\u001b[0m\u001b[0;32m     37\u001b[0m \u001b[1;33m\u001b[0m\u001b[0m\n\u001b[0;32m     38\u001b[0m __all__ = ['label', 'find_objects', 'labeled_comprehension', 'sum', 'mean',\n",
      "\u001b[1;32mD:\\Anaconda2020.07\\lib\\site-packages\\scipy\\ndimage\\_morphology.py\u001b[0m in \u001b[0;36m<module>\u001b[1;34m\u001b[0m\n\u001b[0;32m     35\u001b[0m \u001b[1;32mfrom\u001b[0m \u001b[1;33m.\u001b[0m \u001b[1;32mimport\u001b[0m \u001b[0m_ni_support\u001b[0m\u001b[1;33m\u001b[0m\u001b[1;33m\u001b[0m\u001b[0m\n\u001b[0;32m     36\u001b[0m \u001b[1;32mfrom\u001b[0m \u001b[1;33m.\u001b[0m \u001b[1;32mimport\u001b[0m \u001b[0m_nd_image\u001b[0m\u001b[1;33m\u001b[0m\u001b[1;33m\u001b[0m\u001b[0m\n\u001b[1;32m---> 37\u001b[1;33m \u001b[1;32mfrom\u001b[0m \u001b[1;33m.\u001b[0m \u001b[1;32mimport\u001b[0m \u001b[0m_filters\u001b[0m\u001b[1;33m\u001b[0m\u001b[1;33m\u001b[0m\u001b[0m\n\u001b[0m\u001b[0;32m     38\u001b[0m \u001b[1;33m\u001b[0m\u001b[0m\n\u001b[0;32m     39\u001b[0m __all__ = ['iterate_structure', 'generate_binary_structure', 'binary_erosion',\n",
      "\u001b[1;32mD:\\Anaconda2020.07\\lib\\site-packages\\scipy\\ndimage\\_filters.py\u001b[0m in \u001b[0;36m<module>\u001b[1;34m\u001b[0m\n\u001b[0;32m     82\u001b[0m \u001b[1;33m\u001b[0m\u001b[0m\n\u001b[0;32m     83\u001b[0m \u001b[1;33m@\u001b[0m\u001b[0m_ni_docstrings\u001b[0m\u001b[1;33m.\u001b[0m\u001b[0mdocfiller\u001b[0m\u001b[1;33m\u001b[0m\u001b[1;33m\u001b[0m\u001b[0m\n\u001b[1;32m---> 84\u001b[1;33m def correlate1d(input, weights, axis=-1, output=None, mode=\"reflect\",\n\u001b[0m\u001b[0;32m     85\u001b[0m                 cval=0.0, origin=0):\n\u001b[0;32m     86\u001b[0m     \"\"\"Calculate a 1-D correlation along the given axis.\n",
      "\u001b[1;32mD:\\Anaconda2020.07\\lib\\site-packages\\scipy\\_lib\\doccer.py\u001b[0m in \u001b[0;36mdecorate\u001b[1;34m(f)\u001b[0m\n\u001b[0;32m    221\u001b[0m \u001b[1;33m\u001b[0m\u001b[0m\n\u001b[0;32m    222\u001b[0m     \u001b[1;32mdef\u001b[0m \u001b[0mdecorate\u001b[0m\u001b[1;33m(\u001b[0m\u001b[0mf\u001b[0m\u001b[1;33m)\u001b[0m\u001b[1;33m:\u001b[0m\u001b[1;33m\u001b[0m\u001b[1;33m\u001b[0m\u001b[0m\n\u001b[1;32m--> 223\u001b[1;33m         \u001b[0mf\u001b[0m\u001b[1;33m.\u001b[0m\u001b[0m__doc__\u001b[0m \u001b[1;33m=\u001b[0m \u001b[0mdocformat\u001b[0m\u001b[1;33m(\u001b[0m\u001b[0mf\u001b[0m\u001b[1;33m.\u001b[0m\u001b[0m__doc__\u001b[0m\u001b[1;33m,\u001b[0m \u001b[0mdocdict\u001b[0m\u001b[1;33m)\u001b[0m\u001b[1;33m\u001b[0m\u001b[1;33m\u001b[0m\u001b[0m\n\u001b[0m\u001b[0;32m    224\u001b[0m         \u001b[1;32mreturn\u001b[0m \u001b[0mf\u001b[0m\u001b[1;33m\u001b[0m\u001b[1;33m\u001b[0m\u001b[0m\n\u001b[0;32m    225\u001b[0m     \u001b[1;32mreturn\u001b[0m \u001b[0mdecorate\u001b[0m\u001b[1;33m\u001b[0m\u001b[1;33m\u001b[0m\u001b[0m\n",
      "\u001b[1;32mD:\\Anaconda2020.07\\lib\\site-packages\\scipy\\_lib\\doccer.py\u001b[0m in \u001b[0;36mdocformat\u001b[1;34m(docstring, docdict)\u001b[0m\n\u001b[0;32m     64\u001b[0m         \u001b[1;32mexcept\u001b[0m \u001b[0mIndexError\u001b[0m\u001b[1;33m:\u001b[0m\u001b[1;33m\u001b[0m\u001b[1;33m\u001b[0m\u001b[0m\n\u001b[0;32m     65\u001b[0m             \u001b[0mindented\u001b[0m\u001b[1;33m[\u001b[0m\u001b[0mname\u001b[0m\u001b[1;33m]\u001b[0m \u001b[1;33m=\u001b[0m \u001b[0mdstr\u001b[0m\u001b[1;33m\u001b[0m\u001b[1;33m\u001b[0m\u001b[0m\n\u001b[1;32m---> 66\u001b[1;33m     \u001b[1;32mreturn\u001b[0m \u001b[0mdocstring\u001b[0m \u001b[1;33m%\u001b[0m \u001b[0mindented\u001b[0m\u001b[1;33m\u001b[0m\u001b[1;33m\u001b[0m\u001b[0m\n\u001b[0m\u001b[0;32m     67\u001b[0m \u001b[1;33m\u001b[0m\u001b[0m\n\u001b[0;32m     68\u001b[0m \u001b[1;33m\u001b[0m\u001b[0m\n",
      "\u001b[1;31mKeyError\u001b[0m: 'mode_reflect'"
     ]
    }
   ],
   "source": [
    "#import packages\n",
    "import pandas as pd\n",
    "import numpy as np\n",
    "import matplotlib.pyplot as plt\n",
    "from sklearn.preprocessing import MinMaxScaler\n",
    "%matplotlib inline\n",
    "\n",
    "import sys\n",
    "sys.path.append('..')\n",
    "from utils.read_utils import load_dataset, load_dataset_7, load_indicators3, load_horizons\n",
    "from utils.plot_utils import print_score, inverse_transform, plot_prediction\n",
    "from algorithms.model import build_model, lstm_train, svr_train, score\n",
    "from sklearn.svm import SVR "
   ]
  },
  {
   "cell_type": "code",
   "execution_count": 4,
   "metadata": {},
   "outputs": [
    {
     "ename": "KeyError",
     "evalue": "'mode_reflect'",
     "output_type": "error",
     "traceback": [
      "\u001b[1;31m---------------------------------------------------------------------------\u001b[0m",
      "\u001b[1;31mKeyError\u001b[0m                                  Traceback (most recent call last)",
      "\u001b[1;32m<ipython-input-4-b7c74cbf5af0>\u001b[0m in \u001b[0;36m<module>\u001b[1;34m\u001b[0m\n\u001b[1;32m----> 1\u001b[1;33m \u001b[1;32mimport\u001b[0m \u001b[0msklearn\u001b[0m\u001b[1;33m\u001b[0m\u001b[1;33m\u001b[0m\u001b[0m\n\u001b[0m",
      "\u001b[1;32mD:\\Anaconda2020.07\\lib\\site-packages\\sklearn\\__init__.py\u001b[0m in \u001b[0;36m<module>\u001b[1;34m\u001b[0m\n\u001b[0;32m     80\u001b[0m     \u001b[1;32mfrom\u001b[0m \u001b[1;33m.\u001b[0m \u001b[1;32mimport\u001b[0m \u001b[0m_distributor_init\u001b[0m  \u001b[1;31m# noqa: F401\u001b[0m\u001b[1;33m\u001b[0m\u001b[1;33m\u001b[0m\u001b[0m\n\u001b[0;32m     81\u001b[0m     \u001b[1;32mfrom\u001b[0m \u001b[1;33m.\u001b[0m \u001b[1;32mimport\u001b[0m \u001b[0m__check_build\u001b[0m  \u001b[1;31m# noqa: F401\u001b[0m\u001b[1;33m\u001b[0m\u001b[1;33m\u001b[0m\u001b[0m\n\u001b[1;32m---> 82\u001b[1;33m     \u001b[1;32mfrom\u001b[0m \u001b[1;33m.\u001b[0m\u001b[0mbase\u001b[0m \u001b[1;32mimport\u001b[0m \u001b[0mclone\u001b[0m\u001b[1;33m\u001b[0m\u001b[1;33m\u001b[0m\u001b[0m\n\u001b[0m\u001b[0;32m     83\u001b[0m     \u001b[1;32mfrom\u001b[0m \u001b[1;33m.\u001b[0m\u001b[0mutils\u001b[0m\u001b[1;33m.\u001b[0m\u001b[0m_show_versions\u001b[0m \u001b[1;32mimport\u001b[0m \u001b[0mshow_versions\u001b[0m\u001b[1;33m\u001b[0m\u001b[1;33m\u001b[0m\u001b[0m\n\u001b[0;32m     84\u001b[0m \u001b[1;33m\u001b[0m\u001b[0m\n",
      "\u001b[1;32mD:\\Anaconda2020.07\\lib\\site-packages\\sklearn\\base.py\u001b[0m in \u001b[0;36m<module>\u001b[1;34m\u001b[0m\n\u001b[0;32m     15\u001b[0m \u001b[1;32mfrom\u001b[0m \u001b[1;33m.\u001b[0m \u001b[1;32mimport\u001b[0m \u001b[0m__version__\u001b[0m\u001b[1;33m\u001b[0m\u001b[1;33m\u001b[0m\u001b[0m\n\u001b[0;32m     16\u001b[0m \u001b[1;32mfrom\u001b[0m \u001b[1;33m.\u001b[0m\u001b[0m_config\u001b[0m \u001b[1;32mimport\u001b[0m \u001b[0mget_config\u001b[0m\u001b[1;33m\u001b[0m\u001b[1;33m\u001b[0m\u001b[0m\n\u001b[1;32m---> 17\u001b[1;33m \u001b[1;32mfrom\u001b[0m \u001b[1;33m.\u001b[0m\u001b[0mutils\u001b[0m \u001b[1;32mimport\u001b[0m \u001b[0m_IS_32BIT\u001b[0m\u001b[1;33m\u001b[0m\u001b[1;33m\u001b[0m\u001b[0m\n\u001b[0m\u001b[0;32m     18\u001b[0m from .utils._tags import (\n\u001b[0;32m     19\u001b[0m     \u001b[0m_DEFAULT_TAGS\u001b[0m\u001b[1;33m,\u001b[0m\u001b[1;33m\u001b[0m\u001b[1;33m\u001b[0m\u001b[0m\n",
      "\u001b[1;32mD:\\Anaconda2020.07\\lib\\site-packages\\sklearn\\utils\\__init__.py\u001b[0m in \u001b[0;36m<module>\u001b[1;34m\u001b[0m\n\u001b[0;32m     26\u001b[0m \u001b[1;32mfrom\u001b[0m \u001b[1;33m.\u001b[0m\u001b[1;33m.\u001b[0m\u001b[0mexceptions\u001b[0m \u001b[1;32mimport\u001b[0m \u001b[0mDataConversionWarning\u001b[0m\u001b[1;33m\u001b[0m\u001b[1;33m\u001b[0m\u001b[0m\n\u001b[0;32m     27\u001b[0m \u001b[1;32mfrom\u001b[0m \u001b[1;33m.\u001b[0m\u001b[0mdeprecation\u001b[0m \u001b[1;32mimport\u001b[0m \u001b[0mdeprecated\u001b[0m\u001b[1;33m\u001b[0m\u001b[1;33m\u001b[0m\u001b[0m\n\u001b[1;32m---> 28\u001b[1;33m \u001b[1;32mfrom\u001b[0m \u001b[1;33m.\u001b[0m\u001b[0mfixes\u001b[0m \u001b[1;32mimport\u001b[0m \u001b[0mnp_version\u001b[0m\u001b[1;33m,\u001b[0m \u001b[0mparse_version\u001b[0m\u001b[1;33m\u001b[0m\u001b[1;33m\u001b[0m\u001b[0m\n\u001b[0m\u001b[0;32m     29\u001b[0m \u001b[1;32mfrom\u001b[0m \u001b[1;33m.\u001b[0m\u001b[0m_estimator_html_repr\u001b[0m \u001b[1;32mimport\u001b[0m \u001b[0mestimator_html_repr\u001b[0m\u001b[1;33m\u001b[0m\u001b[1;33m\u001b[0m\u001b[0m\n\u001b[0;32m     30\u001b[0m from .validation import (\n",
      "\u001b[1;32mD:\\Anaconda2020.07\\lib\\site-packages\\sklearn\\utils\\fixes.py\u001b[0m in \u001b[0;36m<module>\u001b[1;34m\u001b[0m\n\u001b[0;32m     18\u001b[0m \u001b[1;32mimport\u001b[0m \u001b[0mscipy\u001b[0m\u001b[1;33m.\u001b[0m\u001b[0msparse\u001b[0m \u001b[1;32mas\u001b[0m \u001b[0msp\u001b[0m\u001b[1;33m\u001b[0m\u001b[1;33m\u001b[0m\u001b[0m\n\u001b[0;32m     19\u001b[0m \u001b[1;32mimport\u001b[0m \u001b[0mscipy\u001b[0m\u001b[1;33m\u001b[0m\u001b[1;33m\u001b[0m\u001b[0m\n\u001b[1;32m---> 20\u001b[1;33m \u001b[1;32mimport\u001b[0m \u001b[0mscipy\u001b[0m\u001b[1;33m.\u001b[0m\u001b[0mstats\u001b[0m\u001b[1;33m\u001b[0m\u001b[1;33m\u001b[0m\u001b[0m\n\u001b[0m\u001b[0;32m     21\u001b[0m \u001b[1;32mfrom\u001b[0m \u001b[0mscipy\u001b[0m\u001b[1;33m.\u001b[0m\u001b[0msparse\u001b[0m\u001b[1;33m.\u001b[0m\u001b[0mlinalg\u001b[0m \u001b[1;32mimport\u001b[0m \u001b[0mlsqr\u001b[0m \u001b[1;32mas\u001b[0m \u001b[0msparse_lsqr\u001b[0m  \u001b[1;31m# noqa\u001b[0m\u001b[1;33m\u001b[0m\u001b[1;33m\u001b[0m\u001b[0m\n\u001b[0;32m     22\u001b[0m \u001b[1;32mimport\u001b[0m \u001b[0mthreadpoolctl\u001b[0m\u001b[1;33m\u001b[0m\u001b[1;33m\u001b[0m\u001b[0m\n",
      "\u001b[1;32mD:\\Anaconda2020.07\\lib\\site-packages\\scipy\\stats\\__init__.py\u001b[0m in \u001b[0;36m<module>\u001b[1;34m\u001b[0m\n\u001b[0;32m    451\u001b[0m \"\"\"\n\u001b[0;32m    452\u001b[0m \u001b[1;33m\u001b[0m\u001b[0m\n\u001b[1;32m--> 453\u001b[1;33m \u001b[1;32mfrom\u001b[0m \u001b[1;33m.\u001b[0m\u001b[0m_stats_py\u001b[0m \u001b[1;32mimport\u001b[0m \u001b[1;33m*\u001b[0m\u001b[1;33m\u001b[0m\u001b[1;33m\u001b[0m\u001b[0m\n\u001b[0m\u001b[0;32m    454\u001b[0m \u001b[1;32mfrom\u001b[0m \u001b[1;33m.\u001b[0m\u001b[0m_variation\u001b[0m \u001b[1;32mimport\u001b[0m \u001b[0mvariation\u001b[0m\u001b[1;33m\u001b[0m\u001b[1;33m\u001b[0m\u001b[0m\n\u001b[0;32m    455\u001b[0m \u001b[1;32mfrom\u001b[0m \u001b[1;33m.\u001b[0m\u001b[0mdistributions\u001b[0m \u001b[1;32mimport\u001b[0m \u001b[1;33m*\u001b[0m\u001b[1;33m\u001b[0m\u001b[1;33m\u001b[0m\u001b[0m\n",
      "\u001b[1;32mD:\\Anaconda2020.07\\lib\\site-packages\\scipy\\stats\\_stats_py.py\u001b[0m in \u001b[0;36m<module>\u001b[1;34m\u001b[0m\n\u001b[0;32m     37\u001b[0m \u001b[1;33m\u001b[0m\u001b[0m\n\u001b[0;32m     38\u001b[0m \u001b[1;32mfrom\u001b[0m \u001b[0mscipy\u001b[0m\u001b[1;33m.\u001b[0m\u001b[0mspatial\u001b[0m\u001b[1;33m.\u001b[0m\u001b[0mdistance\u001b[0m \u001b[1;32mimport\u001b[0m \u001b[0mcdist\u001b[0m\u001b[1;33m\u001b[0m\u001b[1;33m\u001b[0m\u001b[0m\n\u001b[1;32m---> 39\u001b[1;33m \u001b[1;32mfrom\u001b[0m \u001b[0mscipy\u001b[0m\u001b[1;33m.\u001b[0m\u001b[0mndimage\u001b[0m \u001b[1;32mimport\u001b[0m \u001b[0m_measurements\u001b[0m\u001b[1;33m\u001b[0m\u001b[1;33m\u001b[0m\u001b[0m\n\u001b[0m\u001b[0;32m     40\u001b[0m from scipy._lib._util import (check_random_state, MapWrapper,\n\u001b[0;32m     41\u001b[0m                               rng_integers, float_factorial)\n",
      "\u001b[1;32mD:\\Anaconda2020.07\\lib\\site-packages\\scipy\\ndimage\\_measurements.py\u001b[0m in \u001b[0;36m<module>\u001b[1;34m\u001b[0m\n\u001b[0;32m     34\u001b[0m \u001b[1;32mfrom\u001b[0m \u001b[1;33m.\u001b[0m \u001b[1;32mimport\u001b[0m \u001b[0m_ni_label\u001b[0m\u001b[1;33m\u001b[0m\u001b[1;33m\u001b[0m\u001b[0m\n\u001b[0;32m     35\u001b[0m \u001b[1;32mfrom\u001b[0m \u001b[1;33m.\u001b[0m \u001b[1;32mimport\u001b[0m \u001b[0m_nd_image\u001b[0m\u001b[1;33m\u001b[0m\u001b[1;33m\u001b[0m\u001b[0m\n\u001b[1;32m---> 36\u001b[1;33m \u001b[1;32mfrom\u001b[0m \u001b[1;33m.\u001b[0m \u001b[1;32mimport\u001b[0m \u001b[0m_morphology\u001b[0m\u001b[1;33m\u001b[0m\u001b[1;33m\u001b[0m\u001b[0m\n\u001b[0m\u001b[0;32m     37\u001b[0m \u001b[1;33m\u001b[0m\u001b[0m\n\u001b[0;32m     38\u001b[0m __all__ = ['label', 'find_objects', 'labeled_comprehension', 'sum', 'mean',\n",
      "\u001b[1;32mD:\\Anaconda2020.07\\lib\\site-packages\\scipy\\ndimage\\_morphology.py\u001b[0m in \u001b[0;36m<module>\u001b[1;34m\u001b[0m\n\u001b[0;32m     35\u001b[0m \u001b[1;32mfrom\u001b[0m \u001b[1;33m.\u001b[0m \u001b[1;32mimport\u001b[0m \u001b[0m_ni_support\u001b[0m\u001b[1;33m\u001b[0m\u001b[1;33m\u001b[0m\u001b[0m\n\u001b[0;32m     36\u001b[0m \u001b[1;32mfrom\u001b[0m \u001b[1;33m.\u001b[0m \u001b[1;32mimport\u001b[0m \u001b[0m_nd_image\u001b[0m\u001b[1;33m\u001b[0m\u001b[1;33m\u001b[0m\u001b[0m\n\u001b[1;32m---> 37\u001b[1;33m \u001b[1;32mfrom\u001b[0m \u001b[1;33m.\u001b[0m \u001b[1;32mimport\u001b[0m \u001b[0m_filters\u001b[0m\u001b[1;33m\u001b[0m\u001b[1;33m\u001b[0m\u001b[0m\n\u001b[0m\u001b[0;32m     38\u001b[0m \u001b[1;33m\u001b[0m\u001b[0m\n\u001b[0;32m     39\u001b[0m __all__ = ['iterate_structure', 'generate_binary_structure', 'binary_erosion',\n",
      "\u001b[1;32mD:\\Anaconda2020.07\\lib\\site-packages\\scipy\\ndimage\\_filters.py\u001b[0m in \u001b[0;36m<module>\u001b[1;34m\u001b[0m\n\u001b[0;32m     82\u001b[0m \u001b[1;33m\u001b[0m\u001b[0m\n\u001b[0;32m     83\u001b[0m \u001b[1;33m@\u001b[0m\u001b[0m_ni_docstrings\u001b[0m\u001b[1;33m.\u001b[0m\u001b[0mdocfiller\u001b[0m\u001b[1;33m\u001b[0m\u001b[1;33m\u001b[0m\u001b[0m\n\u001b[1;32m---> 84\u001b[1;33m def correlate1d(input, weights, axis=-1, output=None, mode=\"reflect\",\n\u001b[0m\u001b[0;32m     85\u001b[0m                 cval=0.0, origin=0):\n\u001b[0;32m     86\u001b[0m     \"\"\"Calculate a 1-D correlation along the given axis.\n",
      "\u001b[1;32mD:\\Anaconda2020.07\\lib\\site-packages\\scipy\\_lib\\doccer.py\u001b[0m in \u001b[0;36mdecorate\u001b[1;34m(f)\u001b[0m\n\u001b[0;32m    221\u001b[0m \u001b[1;33m\u001b[0m\u001b[0m\n\u001b[0;32m    222\u001b[0m     \u001b[1;32mdef\u001b[0m \u001b[0mdecorate\u001b[0m\u001b[1;33m(\u001b[0m\u001b[0mf\u001b[0m\u001b[1;33m)\u001b[0m\u001b[1;33m:\u001b[0m\u001b[1;33m\u001b[0m\u001b[1;33m\u001b[0m\u001b[0m\n\u001b[1;32m--> 223\u001b[1;33m         \u001b[0mf\u001b[0m\u001b[1;33m.\u001b[0m\u001b[0m__doc__\u001b[0m \u001b[1;33m=\u001b[0m \u001b[0mdocformat\u001b[0m\u001b[1;33m(\u001b[0m\u001b[0mf\u001b[0m\u001b[1;33m.\u001b[0m\u001b[0m__doc__\u001b[0m\u001b[1;33m,\u001b[0m \u001b[0mdocdict\u001b[0m\u001b[1;33m)\u001b[0m\u001b[1;33m\u001b[0m\u001b[1;33m\u001b[0m\u001b[0m\n\u001b[0m\u001b[0;32m    224\u001b[0m         \u001b[1;32mreturn\u001b[0m \u001b[0mf\u001b[0m\u001b[1;33m\u001b[0m\u001b[1;33m\u001b[0m\u001b[0m\n\u001b[0;32m    225\u001b[0m     \u001b[1;32mreturn\u001b[0m \u001b[0mdecorate\u001b[0m\u001b[1;33m\u001b[0m\u001b[1;33m\u001b[0m\u001b[0m\n",
      "\u001b[1;32mD:\\Anaconda2020.07\\lib\\site-packages\\scipy\\_lib\\doccer.py\u001b[0m in \u001b[0;36mdocformat\u001b[1;34m(docstring, docdict)\u001b[0m\n\u001b[0;32m     64\u001b[0m         \u001b[1;32mexcept\u001b[0m \u001b[0mIndexError\u001b[0m\u001b[1;33m:\u001b[0m\u001b[1;33m\u001b[0m\u001b[1;33m\u001b[0m\u001b[0m\n\u001b[0;32m     65\u001b[0m             \u001b[0mindented\u001b[0m\u001b[1;33m[\u001b[0m\u001b[0mname\u001b[0m\u001b[1;33m]\u001b[0m \u001b[1;33m=\u001b[0m \u001b[0mdstr\u001b[0m\u001b[1;33m\u001b[0m\u001b[1;33m\u001b[0m\u001b[0m\n\u001b[1;32m---> 66\u001b[1;33m     \u001b[1;32mreturn\u001b[0m \u001b[0mdocstring\u001b[0m \u001b[1;33m%\u001b[0m \u001b[0mindented\u001b[0m\u001b[1;33m\u001b[0m\u001b[1;33m\u001b[0m\u001b[0m\n\u001b[0m\u001b[0;32m     67\u001b[0m \u001b[1;33m\u001b[0m\u001b[0m\n\u001b[0;32m     68\u001b[0m \u001b[1;33m\u001b[0m\u001b[0m\n",
      "\u001b[1;31mKeyError\u001b[0m: 'mode_reflect'"
     ]
    }
   ],
   "source": [
    "import sklearn"
   ]
  },
  {
   "cell_type": "code",
   "execution_count": null,
   "metadata": {},
   "outputs": [],
   "source": [
    "# Import the dataset\n",
    "X_train, X_test, y_train, y_test = load_dataset()\n",
    "X_train_7, X_test_7, y_train_7, y_test_7 = load_dataset_7()\n",
    "X_train.shape, X_test.shape, y_train.shape, y_test.shape, X_train_7.shape, X_test_7.shape, y_train_7.shape, y_test_7.shape"
   ]
  },
  {
   "cell_type": "code",
   "execution_count": null,
   "metadata": {},
   "outputs": [],
   "source": [
    "X_train.head()"
   ]
  },
  {
   "cell_type": "code",
   "execution_count": null,
   "metadata": {},
   "outputs": [],
   "source": [
    "y_train.head()"
   ]
  },
  {
   "cell_type": "code",
   "execution_count": null,
   "metadata": {},
   "outputs": [],
   "source": [
    "# Import indicators and horizons\n",
    "technical_indicators, fundamental_indicators, combined_indicators = load_indicators3()\n",
    "horizons, horizons_7 = load_horizons()\n",
    "len(technical_indicators), len(fundamental_indicators), len(combined_indicators)"
   ]
  },
  {
   "cell_type": "markdown",
   "metadata": {},
   "source": [
    "# For one company"
   ]
  },
  {
   "cell_type": "code",
   "execution_count": null,
   "metadata": {},
   "outputs": [],
   "source": [
    "X_train_one = X_train.loc[X_train['Symbol'] == \"AAPL\"].copy()\n",
    "X_test_one = X_test.loc[X_test['Symbol'] == \"AAPL\"].copy()\n",
    "y_train_one = y_train.loc[y_train['Symbol'] == \"AAPL\"].copy()\n",
    "y_test_one = y_test.loc[y_test['Symbol'] == \"AAPL\"].copy()\n",
    "X_train_one.shape, X_test_one.shape, y_train_one.shape, y_test_one.shape"
   ]
  },
  {
   "cell_type": "code",
   "execution_count": null,
   "metadata": {},
   "outputs": [],
   "source": [
    "# Normalizing the data set \n",
    "X_scaler = MinMaxScaler(feature_range=(0, 1))\n",
    "X_scaler.fit_transform(X_train_one[combined_indicators])\n",
    "y_scaler = MinMaxScaler(feature_range=(0, 1))\n",
    "y_scaler.fit_transform(y_train_one.loc[: ,horizons])\n",
    "X_scaler"
   ]
  },
  {
   "cell_type": "code",
   "execution_count": null,
   "metadata": {
    "scrolled": true
   },
   "outputs": [],
   "source": [
    "X_train_one[combined_indicators] = X_scaler.transform(X_train_one[combined_indicators])\n",
    "X_test_one[combined_indicators] = X_scaler.transform(X_test_one[combined_indicators])\n",
    "X_train_one.head()"
   ]
  },
  {
   "cell_type": "code",
   "execution_count": null,
   "metadata": {},
   "outputs": [],
   "source": [
    "y_train_one.loc[: ,horizons] = y_scaler.transform(y_train_one.loc[: ,horizons])\n",
    "y_test_one.loc[: ,horizons] = y_scaler.transform(y_test_one.loc[: ,horizons])\n",
    "y_test_one.tail()"
   ]
  },
  {
   "cell_type": "code",
   "execution_count": null,
   "metadata": {},
   "outputs": [],
   "source": [
    "lstm = build_model(technical_indicators, units=64, activation = 'relu', dropout_rate=0.2)\n",
    "preds_train, preds_test = lstm_train(technical_indicators, horizons, X_train_one, y_train_one, X_test_one, y_test_one, model=lstm)\n",
    "print_score(\"Technical Indicators\", horizons, \"LSTM\", y_test_one, preds_test)\n",
    "plt.figure(figsize=(15,10))\n",
    "plot_prediction(\"Technical Indicators\", horizons, \"LSTM\", y_scaler, y_train_one.iloc[59:], y_test_one, preds_train, preds_test)"
   ]
  },
  {
   "cell_type": "code",
   "execution_count": null,
   "metadata": {},
   "outputs": [],
   "source": [
    "svr = SVR(C=0.3, kernel='poly', gamma=3, max_iter=1000000)\n",
    "preds_train, preds_test = svr_train(technical_indicators, horizons, X_train_one, y_train_one, X_test_one, y_test_one, model=svr)\n",
    "print_score(\"Technical Indicators\", horizons, \"SVR\", y_test_one, preds_test)\n",
    "plt.figure(figsize=(15,10))\n",
    "plot_prediction(\"Technical Indicators\", horizons, \"SVR\", y_scaler, y_train_one, y_test_one, preds_train, preds_test)"
   ]
  },
  {
   "cell_type": "code",
   "execution_count": null,
   "metadata": {},
   "outputs": [],
   "source": [
    "preds_train = []\n",
    "preds_test = []\n",
    "plt.figure(figsize=(16,8))\n",
    "\n",
    "svr = SVR(C=0.3, kernel='poly', gamma=3, max_iter=1000000)\n",
    "lstm = build_model(technical_indicators, units=32, activation = 'relu', dropout_rate=0.2)\n",
    "\n",
    "preds_train, preds_test = lstm_train(technical_indicators, horizons, X_train_one, y_train_one, X_test_one, y_test_one, model=lstm)\n",
    "print_score(\"Technical Indicators\", horizons, \"LSTM\", y_test_one, preds_test)\n",
    "plt.subplot(3,2,1)\n",
    "plot_prediction(\"Technical Indicators\", horizons, \"LSTM\", y_scaler, y_train_one.iloc[59:], y_test_one, preds_train, preds_test)\n",
    "\n",
    "preds_train, preds_test = svr_train(technical_indicators, horizons, X_train_one, y_train_one, X_test_one, y_test_one, model=svr)\n",
    "print_score(\"Technical Indicators\", horizons, \"SVR\", y_test_one, preds_test)\n",
    "plt.subplot(3,2,2)\n",
    "plot_prediction(\"Technical Indicators\", horizons, \"SVR\", y_scaler, y_train_one, y_test_one, preds_train, preds_test)\n",
    "\n",
    "lstm = build_model(fundamental_indicators, units=32, activation = 'relu', dropout_rate=0.2)\n",
    "preds_train, preds_test = lstm_train(fundamental_indicators, horizons, X_train_one, y_train_one, X_test_one, y_test_one, model=lstm)\n",
    "print_score(\"Fundamental Indicators\", horizons, \"LSTM\", y_test_one, preds_test)\n",
    "plt.subplot(3,2,3)\n",
    "plot_prediction(\"Fundamental Indicators\", horizons, \"LSTM\", y_scaler, y_train_one.iloc[59:], y_test_one, preds_train, preds_test)\n",
    "\n",
    "preds_train, preds_test = svr_train(fundamental_indicators, horizons, X_train_one, y_train_one, X_test_one, y_test_one, model=svr)\n",
    "print_score(\"Fundamental Indicators\", horizons, \"SVR\", y_test_one, preds_test)\n",
    "plt.subplot(3,2,4)\n",
    "plot_prediction(\"Fundamental Indicators\", horizons, \"SVR\", y_scaler, y_train_one, y_test_one, preds_train, preds_test)\n",
    "\n",
    "lstm = build_model(combined_indicators, units=32, activation = 'relu', dropout_rate=0.2)\n",
    "preds_train, preds_test = lstm_train(combined_indicators, horizons, X_train_one, y_train_one, X_test_one, y_test_one, model=lstm)\n",
    "print_score(\"Combined Indicators\", horizons, \"LSTM\", y_test_one, preds_test)\n",
    "plt.subplot(3,2,5)\n",
    "plot_prediction(\"Combined Indicators\", horizons, \"LSTM\", y_scaler, y_train_one.iloc[59:], y_test_one, preds_train, preds_test)\n",
    "\n",
    "preds_train, preds_test = svr_train(combined_indicators, horizons, X_train_one, y_train_one, X_test_one, y_test_one, model=svr)\n",
    "print_score(\"Combined Indicators\", horizons, \"SVR\", y_test_one, preds_test)\n",
    "plt.subplot(3,2,6)\n",
    "plot_prediction(\"Combined Indicators\", horizons, \"SVR\", y_scaler, y_train_one, y_test_one, preds_train, preds_test)\n",
    "\n",
    "plt.subplots_adjust(left=None,bottom=None,right=None,top=None,wspace=.5,hspace=.5)"
   ]
  },
  {
   "cell_type": "markdown",
   "metadata": {},
   "source": [
    "# For all conpanies"
   ]
  },
  {
   "cell_type": "code",
   "execution_count": 11,
   "metadata": {},
   "outputs": [
    {
     "data": {
      "text/plain": [
       "array([[0.02922732],\n",
       "       [0.03014126],\n",
       "       [0.02991277],\n",
       "       ...,\n",
       "       [0.0135559 ],\n",
       "       [0.01341075],\n",
       "       [0.01331398]])"
      ]
     },
     "execution_count": 11,
     "metadata": {},
     "output_type": "execute_result"
    }
   ],
   "source": [
    "# Normalizing the data set \n",
    "X_scaler = MinMaxScaler(feature_range=(0, 1))\n",
    "X_scaler.fit_transform(X_train[combined_indicators])\n",
    "y_scaler = MinMaxScaler(feature_range=(0, 1))\n",
    "y_scaler.fit_transform(y_train.loc[: ,horizons])\n",
    "X_scaler_7 = MinMaxScaler(feature_range=(0, 1))\n",
    "X_scaler_7.fit_transform(X_test_7[combined_indicators])\n",
    "y_scaler_7 = MinMaxScaler(feature_range=(0, 1))\n",
    "y_scaler_7.fit_transform(y_test_7.loc[: ,horizons_7])"
   ]
  },
  {
   "cell_type": "code",
   "execution_count": 12,
   "metadata": {},
   "outputs": [
    {
     "data": {
      "text/html": [
       "<div>\n",
       "<style scoped>\n",
       "    .dataframe tbody tr th:only-of-type {\n",
       "        vertical-align: middle;\n",
       "    }\n",
       "\n",
       "    .dataframe tbody tr th {\n",
       "        vertical-align: top;\n",
       "    }\n",
       "\n",
       "    .dataframe thead th {\n",
       "        text-align: right;\n",
       "    }\n",
       "</style>\n",
       "<table border=\"1\" class=\"dataframe\">\n",
       "  <thead>\n",
       "    <tr style=\"text-align: right;\">\n",
       "      <th></th>\n",
       "      <th>Symbol</th>\n",
       "      <th>Sector</th>\n",
       "      <th>Close</th>\n",
       "      <th>MACD_12_26_9</th>\n",
       "      <th>MACDh_12_26_9</th>\n",
       "      <th>MACDs_12_26_9</th>\n",
       "      <th>MFI_14</th>\n",
       "      <th>STOCHk_14_3_3</th>\n",
       "      <th>STOCHd_14_3_3</th>\n",
       "      <th>RSI_14</th>\n",
       "      <th>...</th>\n",
       "      <th>industry_macds_12_26</th>\n",
       "      <th>sp500_future_macd_12_252</th>\n",
       "      <th>sp500_future_macdh_12_252</th>\n",
       "      <th>sp500_future_macds_12_252</th>\n",
       "      <th>dollar_index_macd_12_252</th>\n",
       "      <th>dollar_index_macdh_12_252</th>\n",
       "      <th>dollar_index_macds_12_252</th>\n",
       "      <th>constant_maturity_macd_12_26</th>\n",
       "      <th>constant_maturity_macdh_12_26</th>\n",
       "      <th>constant_maturity_macds_12_26</th>\n",
       "    </tr>\n",
       "  </thead>\n",
       "  <tbody>\n",
       "    <tr>\n",
       "      <th>2018-01-12</th>\n",
       "      <td>AAPL</td>\n",
       "      <td>Information Technology</td>\n",
       "      <td>0.011414</td>\n",
       "      <td>0.521489</td>\n",
       "      <td>0.497368</td>\n",
       "      <td>0.522757</td>\n",
       "      <td>0.494486</td>\n",
       "      <td>0.870397</td>\n",
       "      <td>0.799826</td>\n",
       "      <td>0.644859</td>\n",
       "      <td>...</td>\n",
       "      <td>0.669363</td>\n",
       "      <td>0.774377</td>\n",
       "      <td>0.760467</td>\n",
       "      <td>0.753250</td>\n",
       "      <td>0.197569</td>\n",
       "      <td>0.253106</td>\n",
       "      <td>0.219259</td>\n",
       "      <td>0.264167</td>\n",
       "      <td>0.470645</td>\n",
       "      <td>0.196512</td>\n",
       "    </tr>\n",
       "    <tr>\n",
       "      <th>2018-01-16</th>\n",
       "      <td>AAPL</td>\n",
       "      <td>Information Technology</td>\n",
       "      <td>0.011350</td>\n",
       "      <td>0.521548</td>\n",
       "      <td>0.497388</td>\n",
       "      <td>0.522820</td>\n",
       "      <td>0.563877</td>\n",
       "      <td>0.850170</td>\n",
       "      <td>0.845447</td>\n",
       "      <td>0.600396</td>\n",
       "      <td>...</td>\n",
       "      <td>0.673898</td>\n",
       "      <td>0.788947</td>\n",
       "      <td>0.759739</td>\n",
       "      <td>0.768959</td>\n",
       "      <td>0.172437</td>\n",
       "      <td>0.215096</td>\n",
       "      <td>0.201836</td>\n",
       "      <td>0.247962</td>\n",
       "      <td>0.395169</td>\n",
       "      <td>0.213290</td>\n",
       "    </tr>\n",
       "    <tr>\n",
       "      <th>2018-01-17</th>\n",
       "      <td>AAPL</td>\n",
       "      <td>Information Technology</td>\n",
       "      <td>0.011557</td>\n",
       "      <td>0.521756</td>\n",
       "      <td>0.497801</td>\n",
       "      <td>0.522918</td>\n",
       "      <td>0.663147</td>\n",
       "      <td>0.877137</td>\n",
       "      <td>0.872069</td>\n",
       "      <td>0.680633</td>\n",
       "      <td>...</td>\n",
       "      <td>0.679414</td>\n",
       "      <td>0.793836</td>\n",
       "      <td>0.760749</td>\n",
       "      <td>0.773881</td>\n",
       "      <td>0.156438</td>\n",
       "      <td>0.195129</td>\n",
       "      <td>0.189547</td>\n",
       "      <td>0.244940</td>\n",
       "      <td>0.379644</td>\n",
       "      <td>0.217073</td>\n",
       "    </tr>\n",
       "    <tr>\n",
       "      <th>2018-01-18</th>\n",
       "      <td>AAPL</td>\n",
       "      <td>Information Technology</td>\n",
       "      <td>0.011568</td>\n",
       "      <td>0.521916</td>\n",
       "      <td>0.498003</td>\n",
       "      <td>0.523034</td>\n",
       "      <td>0.733899</td>\n",
       "      <td>0.862350</td>\n",
       "      <td>0.869359</td>\n",
       "      <td>0.684558</td>\n",
       "      <td>...</td>\n",
       "      <td>0.685279</td>\n",
       "      <td>0.796419</td>\n",
       "      <td>0.754510</td>\n",
       "      <td>0.778368</td>\n",
       "      <td>0.142036</td>\n",
       "      <td>0.184213</td>\n",
       "      <td>0.176485</td>\n",
       "      <td>0.268879</td>\n",
       "      <td>0.418213</td>\n",
       "      <td>0.225209</td>\n",
       "    </tr>\n",
       "    <tr>\n",
       "      <th>2018-01-19</th>\n",
       "      <td>AAPL</td>\n",
       "      <td>Information Technology</td>\n",
       "      <td>0.011511</td>\n",
       "      <td>0.521980</td>\n",
       "      <td>0.497908</td>\n",
       "      <td>0.523141</td>\n",
       "      <td>0.655697</td>\n",
       "      <td>0.917391</td>\n",
       "      <td>0.891996</td>\n",
       "      <td>0.643829</td>\n",
       "      <td>...</td>\n",
       "      <td>0.691056</td>\n",
       "      <td>0.800513</td>\n",
       "      <td>0.754135</td>\n",
       "      <td>0.782829</td>\n",
       "      <td>0.131017</td>\n",
       "      <td>0.186203</td>\n",
       "      <td>0.163563</td>\n",
       "      <td>0.293547</td>\n",
       "      <td>0.450448</td>\n",
       "      <td>0.236982</td>\n",
       "    </tr>\n",
       "  </tbody>\n",
       "</table>\n",
       "<p>5 rows × 27 columns</p>\n",
       "</div>"
      ],
      "text/plain": [
       "           Symbol                  Sector     Close  MACD_12_26_9  \\\n",
       "2018-01-12   AAPL  Information Technology  0.011414      0.521489   \n",
       "2018-01-16   AAPL  Information Technology  0.011350      0.521548   \n",
       "2018-01-17   AAPL  Information Technology  0.011557      0.521756   \n",
       "2018-01-18   AAPL  Information Technology  0.011568      0.521916   \n",
       "2018-01-19   AAPL  Information Technology  0.011511      0.521980   \n",
       "\n",
       "            MACDh_12_26_9  MACDs_12_26_9    MFI_14  STOCHk_14_3_3  \\\n",
       "2018-01-12       0.497368       0.522757  0.494486       0.870397   \n",
       "2018-01-16       0.497388       0.522820  0.563877       0.850170   \n",
       "2018-01-17       0.497801       0.522918  0.663147       0.877137   \n",
       "2018-01-18       0.498003       0.523034  0.733899       0.862350   \n",
       "2018-01-19       0.497908       0.523141  0.655697       0.917391   \n",
       "\n",
       "            STOCHd_14_3_3    RSI_14  ...  industry_macds_12_26  \\\n",
       "2018-01-12       0.799826  0.644859  ...              0.669363   \n",
       "2018-01-16       0.845447  0.600396  ...              0.673898   \n",
       "2018-01-17       0.872069  0.680633  ...              0.679414   \n",
       "2018-01-18       0.869359  0.684558  ...              0.685279   \n",
       "2018-01-19       0.891996  0.643829  ...              0.691056   \n",
       "\n",
       "            sp500_future_macd_12_252  sp500_future_macdh_12_252  \\\n",
       "2018-01-12                  0.774377                   0.760467   \n",
       "2018-01-16                  0.788947                   0.759739   \n",
       "2018-01-17                  0.793836                   0.760749   \n",
       "2018-01-18                  0.796419                   0.754510   \n",
       "2018-01-19                  0.800513                   0.754135   \n",
       "\n",
       "            sp500_future_macds_12_252  dollar_index_macd_12_252  \\\n",
       "2018-01-12                   0.753250                  0.197569   \n",
       "2018-01-16                   0.768959                  0.172437   \n",
       "2018-01-17                   0.773881                  0.156438   \n",
       "2018-01-18                   0.778368                  0.142036   \n",
       "2018-01-19                   0.782829                  0.131017   \n",
       "\n",
       "            dollar_index_macdh_12_252  dollar_index_macds_12_252  \\\n",
       "2018-01-12                   0.253106                   0.219259   \n",
       "2018-01-16                   0.215096                   0.201836   \n",
       "2018-01-17                   0.195129                   0.189547   \n",
       "2018-01-18                   0.184213                   0.176485   \n",
       "2018-01-19                   0.186203                   0.163563   \n",
       "\n",
       "            constant_maturity_macd_12_26  constant_maturity_macdh_12_26  \\\n",
       "2018-01-12                      0.264167                       0.470645   \n",
       "2018-01-16                      0.247962                       0.395169   \n",
       "2018-01-17                      0.244940                       0.379644   \n",
       "2018-01-18                      0.268879                       0.418213   \n",
       "2018-01-19                      0.293547                       0.450448   \n",
       "\n",
       "            constant_maturity_macds_12_26  \n",
       "2018-01-12                       0.196512  \n",
       "2018-01-16                       0.213290  \n",
       "2018-01-17                       0.217073  \n",
       "2018-01-18                       0.225209  \n",
       "2018-01-19                       0.236982  \n",
       "\n",
       "[5 rows x 27 columns]"
      ]
     },
     "execution_count": 12,
     "metadata": {},
     "output_type": "execute_result"
    }
   ],
   "source": [
    "X_train[combined_indicators] = X_scaler.transform(X_train[combined_indicators])\n",
    "X_test[combined_indicators] = X_scaler.transform(X_test[combined_indicators])\n",
    "X_train_7[combined_indicators] = X_scaler_7.transform(X_train_7[combined_indicators])\n",
    "X_test_7[combined_indicators] = X_scaler_7.transform(X_test_7[combined_indicators])\n",
    "X_train.head()"
   ]
  },
  {
   "cell_type": "code",
   "execution_count": 13,
   "metadata": {},
   "outputs": [
    {
     "data": {
      "text/html": [
       "<div>\n",
       "<style scoped>\n",
       "    .dataframe tbody tr th:only-of-type {\n",
       "        vertical-align: middle;\n",
       "    }\n",
       "\n",
       "    .dataframe tbody tr th {\n",
       "        vertical-align: top;\n",
       "    }\n",
       "\n",
       "    .dataframe thead th {\n",
       "        text-align: right;\n",
       "    }\n",
       "</style>\n",
       "<table border=\"1\" class=\"dataframe\">\n",
       "  <thead>\n",
       "    <tr style=\"text-align: right;\">\n",
       "      <th></th>\n",
       "      <th>Symbol</th>\n",
       "      <th>Sector</th>\n",
       "      <th>Close_after_1_day</th>\n",
       "    </tr>\n",
       "  </thead>\n",
       "  <tbody>\n",
       "    <tr>\n",
       "      <th>2021-12-22</th>\n",
       "      <td>XOM</td>\n",
       "      <td>Energy</td>\n",
       "      <td>0.016162</td>\n",
       "    </tr>\n",
       "    <tr>\n",
       "      <th>2021-12-23</th>\n",
       "      <td>XOM</td>\n",
       "      <td>Energy</td>\n",
       "      <td>0.016409</td>\n",
       "    </tr>\n",
       "    <tr>\n",
       "      <th>2021-12-27</th>\n",
       "      <td>XOM</td>\n",
       "      <td>Energy</td>\n",
       "      <td>0.016352</td>\n",
       "    </tr>\n",
       "    <tr>\n",
       "      <th>2021-12-28</th>\n",
       "      <td>XOM</td>\n",
       "      <td>Energy</td>\n",
       "      <td>0.016199</td>\n",
       "    </tr>\n",
       "    <tr>\n",
       "      <th>2021-12-29</th>\n",
       "      <td>XOM</td>\n",
       "      <td>Energy</td>\n",
       "      <td>0.016097</td>\n",
       "    </tr>\n",
       "  </tbody>\n",
       "</table>\n",
       "</div>"
      ],
      "text/plain": [
       "           Symbol  Sector  Close_after_1_day\n",
       "2021-12-22    XOM  Energy           0.016162\n",
       "2021-12-23    XOM  Energy           0.016409\n",
       "2021-12-27    XOM  Energy           0.016352\n",
       "2021-12-28    XOM  Energy           0.016199\n",
       "2021-12-29    XOM  Energy           0.016097"
      ]
     },
     "execution_count": 13,
     "metadata": {},
     "output_type": "execute_result"
    }
   ],
   "source": [
    "y_train.loc[: ,horizons] = y_scaler.transform(y_train.loc[: ,horizons])\n",
    "y_test.loc[: ,horizons] = y_scaler.transform(y_test.loc[: ,horizons])\n",
    "y_train_7.loc[: ,horizons_7] = y_scaler_7.transform(y_train_7.loc[: ,horizons_7])\n",
    "y_test_7.loc[: ,horizons_7] = y_scaler_7.transform(y_test_7.loc[: ,horizons_7])\n",
    "y_test.tail()"
   ]
  },
  {
   "cell_type": "code",
   "execution_count": 18,
   "metadata": {},
   "outputs": [
    {
     "name": "stdout",
     "output_type": "stream",
     "text": [
      "Epoch 1/20\n",
      "2467/2467 [==============================] - 27s 9ms/step - loss: 0.0012\n",
      "Epoch 2/20\n",
      "2467/2467 [==============================] - 23s 9ms/step - loss: 1.7726e-04\n",
      "Epoch 3/20\n",
      "2467/2467 [==============================] - 22s 9ms/step - loss: 1.4762e-04\n",
      "Epoch 4/20\n",
      "2467/2467 [==============================] - 22s 9ms/step - loss: 1.1077e-04\n",
      "Epoch 5/20\n",
      "2467/2467 [==============================] - 22s 9ms/step - loss: 1.0051e-04\n",
      "Epoch 6/20\n",
      "2467/2467 [==============================] - 23s 9ms/step - loss: 8.0327e-05\n",
      "Epoch 7/20\n",
      "2467/2467 [==============================] - 22s 9ms/step - loss: 6.1261e-05\n",
      "Epoch 8/20\n",
      "2467/2467 [==============================] - 22s 9ms/step - loss: 6.8665e-05\n",
      "Epoch 9/20\n",
      "2467/2467 [==============================] - 22s 9ms/step - loss: 6.5801e-05\n",
      "Epoch 10/20\n",
      "2467/2467 [==============================] - 22s 9ms/step - loss: 5.9439e-05\n",
      "Epoch 11/20\n",
      "2467/2467 [==============================] - 22s 9ms/step - loss: 5.3263e-05\n",
      "Epoch 12/20\n",
      "2467/2467 [==============================] - 22s 9ms/step - loss: 5.8385e-05\n",
      "Epoch 13/20\n",
      "2467/2467 [==============================] - 22s 9ms/step - loss: 5.2704e-05\n",
      "Epoch 14/20\n",
      "2467/2467 [==============================] - 22s 9ms/step - loss: 4.9991e-05\n",
      "Epoch 15/20\n",
      "2467/2467 [==============================] - 22s 9ms/step - loss: 5.8688e-05\n",
      "Epoch 16/20\n",
      "2467/2467 [==============================] - 22s 9ms/step - loss: 4.9742e-05\n",
      "Epoch 17/20\n",
      "2467/2467 [==============================] - 22s 9ms/step - loss: 4.7804e-05\n",
      "Epoch 18/20\n",
      "2467/2467 [==============================] - 24s 10ms/step - loss: 4.8175e-05\n",
      "Epoch 19/20\n",
      "2467/2467 [==============================] - 25s 10ms/step - loss: 4.8424e-05\n",
      "Epoch 20/20\n",
      "2467/2467 [==============================] - 23s 9ms/step - loss: 4.8345e-05\n",
      "Epoch 1/20\n",
      "2467/2467 [==============================] - 25s 9ms/step - loss: 0.0016\n",
      "Epoch 2/20\n",
      "2467/2467 [==============================] - 21s 9ms/step - loss: 2.3505e-04\n",
      "Epoch 3/20\n",
      "2467/2467 [==============================] - 21s 9ms/step - loss: 1.5638e-04\n",
      "Epoch 4/20\n",
      "2467/2467 [==============================] - 22s 9ms/step - loss: 1.2872e-04\n",
      "Epoch 5/20\n",
      "2467/2467 [==============================] - 21s 9ms/step - loss: 1.0287e-04\n",
      "Epoch 6/20\n",
      "2467/2467 [==============================] - 21s 9ms/step - loss: 8.5889e-05\n",
      "Epoch 7/20\n",
      "2467/2467 [==============================] - 21s 9ms/step - loss: 7.1615e-05\n",
      "Epoch 8/20\n",
      "2467/2467 [==============================] - 22s 9ms/step - loss: 6.5462e-05\n",
      "Epoch 9/20\n",
      "2467/2467 [==============================] - 21s 9ms/step - loss: 7.3200e-05\n",
      "Epoch 10/20\n",
      "2467/2467 [==============================] - 22s 9ms/step - loss: 6.1600e-05\n",
      "Epoch 11/20\n",
      "2467/2467 [==============================] - 21s 9ms/step - loss: 5.4285e-05\n",
      "Epoch 12/20\n",
      "2467/2467 [==============================] - 21s 8ms/step - loss: 6.0145e-05\n",
      "Epoch 13/20\n",
      "2467/2467 [==============================] - 21s 8ms/step - loss: 5.5894e-05\n",
      "Epoch 14/20\n",
      "2467/2467 [==============================] - 22s 9ms/step - loss: 5.6225e-05\n",
      "Epoch 15/20\n",
      "2467/2467 [==============================] - 21s 9ms/step - loss: 5.5421e-05\n",
      "Epoch 16/20\n",
      "2467/2467 [==============================] - 21s 9ms/step - loss: 5.5063e-05\n",
      "Epoch 17/20\n",
      "2467/2467 [==============================] - 21s 9ms/step - loss: 5.2043e-05\n",
      "Epoch 18/20\n",
      "2467/2467 [==============================] - 22s 9ms/step - loss: 5.1655e-05\n",
      "Epoch 19/20\n",
      "2467/2467 [==============================] - 21s 9ms/step - loss: 4.9529e-05\n",
      "Epoch 20/20\n",
      "2467/2467 [==============================] - 22s 9ms/step - loss: 5.2583e-05\n",
      "Epoch 1/20\n",
      "2467/2467 [==============================] - 25s 9ms/step - loss: 0.0012\n",
      "Epoch 2/20\n",
      "2467/2467 [==============================] - 22s 9ms/step - loss: 2.3342e-04\n",
      "Epoch 3/20\n",
      "2467/2467 [==============================] - 21s 9ms/step - loss: 1.5651e-04\n",
      "Epoch 4/20\n",
      "2467/2467 [==============================] - 22s 9ms/step - loss: 1.2400e-04\n",
      "Epoch 5/20\n",
      "2467/2467 [==============================] - 21s 8ms/step - loss: 1.0358e-04\n",
      "Epoch 6/20\n",
      "2467/2467 [==============================] - 24s 10ms/step - loss: 8.1452e-05\n",
      "Epoch 7/20\n",
      "2467/2467 [==============================] - 24s 10ms/step - loss: 7.5893e-05\n",
      "Epoch 8/20\n",
      "2467/2467 [==============================] - 23s 9ms/step - loss: 6.4505e-05\n",
      "Epoch 9/20\n",
      "2467/2467 [==============================] - 21s 8ms/step - loss: 6.2000e-05\n",
      "Epoch 10/20\n",
      "2467/2467 [==============================] - 21s 9ms/step - loss: 6.0983e-05\n",
      "Epoch 11/20\n",
      "2467/2467 [==============================] - 21s 9ms/step - loss: 6.0415e-05\n",
      "Epoch 12/20\n",
      "2467/2467 [==============================] - 21s 9ms/step - loss: 5.6770e-05\n",
      "Epoch 13/20\n",
      "2467/2467 [==============================] - 21s 9ms/step - loss: 6.1522e-05\n",
      "Epoch 14/20\n",
      "2467/2467 [==============================] - 21s 9ms/step - loss: 5.3893e-05\n",
      "Epoch 15/20\n",
      "2467/2467 [==============================] - 22s 9ms/step - loss: 5.6875e-05\n",
      "Epoch 16/20\n",
      "2467/2467 [==============================] - 21s 8ms/step - loss: 5.1876e-05\n",
      "Epoch 17/20\n",
      "2467/2467 [==============================] - 21s 8ms/step - loss: 5.3156e-05\n",
      "Epoch 18/20\n",
      "2467/2467 [==============================] - 21s 9ms/step - loss: 4.8964e-05\n",
      "Epoch 19/20\n",
      "2467/2467 [==============================] - 21s 9ms/step - loss: 5.3808e-05\n",
      "Epoch 20/20\n",
      "2467/2467 [==============================] - 21s 9ms/step - loss: 4.9148e-05\n",
      "Epoch 1/20\n",
      "2452/2452 [==============================] - 28s 10ms/step - loss: 9.7954e-04\n",
      "Epoch 2/20\n",
      "2452/2452 [==============================] - 23s 10ms/step - loss: 2.1116e-04\n",
      "Epoch 3/20\n",
      "2452/2452 [==============================] - 23s 9ms/step - loss: 1.5573e-04\n",
      "Epoch 4/20\n",
      "2452/2452 [==============================] - 23s 9ms/step - loss: 1.5747e-04\n",
      "Epoch 5/20\n",
      "2452/2452 [==============================] - 24s 10ms/step - loss: 1.2513e-04\n",
      "Epoch 6/20\n",
      "2452/2452 [==============================] - 24s 10ms/step - loss: 9.4800e-05\n",
      "Epoch 7/20\n",
      "2452/2452 [==============================] - 23s 10ms/step - loss: 8.7100e-05\n",
      "Epoch 8/20\n",
      "2452/2452 [==============================] - 22s 9ms/step - loss: 9.1541e-05\n",
      "Epoch 9/20\n",
      "2452/2452 [==============================] - 21s 8ms/step - loss: 7.7020e-05\n",
      "Epoch 10/20\n",
      "2452/2452 [==============================] - 20s 8ms/step - loss: 8.0490e-05\n",
      "Epoch 11/20\n",
      "2452/2452 [==============================] - 21s 9ms/step - loss: 7.1901e-05\n",
      "Epoch 12/20\n",
      "2452/2452 [==============================] - 21s 8ms/step - loss: 7.8261e-05\n",
      "Epoch 13/20\n",
      "2452/2452 [==============================] - 23s 9ms/step - loss: 7.9041e-05\n",
      "Epoch 14/20\n",
      "2452/2452 [==============================] - 22s 9ms/step - loss: 7.6052e-05\n",
      "Epoch 15/20\n",
      "2452/2452 [==============================] - 22s 9ms/step - loss: 6.9279e-05\n",
      "Epoch 16/20\n",
      "2452/2452 [==============================] - 21s 9ms/step - loss: 7.4018e-05\n",
      "Epoch 17/20\n",
      "2452/2452 [==============================] - 22s 9ms/step - loss: 7.3168e-05\n",
      "Epoch 18/20\n",
      "2452/2452 [==============================] - 21s 9ms/step - loss: 6.8166e-05\n",
      "Epoch 19/20\n",
      "2452/2452 [==============================] - 22s 9ms/step - loss: 6.5416e-05\n",
      "Epoch 20/20\n",
      "2452/2452 [==============================] - 21s 9ms/step - loss: 7.4820e-05\n",
      "Epoch 1/20\n",
      "2452/2452 [==============================] - 26s 9ms/step - loss: 0.0021\n",
      "Epoch 2/20\n",
      "2452/2452 [==============================] - 21s 9ms/step - loss: 2.5862e-04\n",
      "Epoch 3/20\n",
      "2452/2452 [==============================] - 21s 9ms/step - loss: 1.6699e-04\n",
      "Epoch 4/20\n",
      "2452/2452 [==============================] - 21s 8ms/step - loss: 1.3720e-04\n",
      "Epoch 5/20\n",
      "2452/2452 [==============================] - 24s 10ms/step - loss: 1.2641e-04\n",
      "Epoch 6/20\n",
      "2452/2452 [==============================] - 24s 10ms/step - loss: 1.1166e-04\n",
      "Epoch 7/20\n",
      "2452/2452 [==============================] - 21s 9ms/step - loss: 9.1839e-05\n",
      "Epoch 8/20\n",
      "2452/2452 [==============================] - 20s 8ms/step - loss: 8.5843e-05\n",
      "Epoch 9/20\n",
      "2452/2452 [==============================] - 20s 8ms/step - loss: 8.6103e-05\n",
      "Epoch 10/20\n",
      "2452/2452 [==============================] - 20s 8ms/step - loss: 7.7209e-05\n",
      "Epoch 11/20\n",
      "2452/2452 [==============================] - 21s 9ms/step - loss: 7.4011e-05\n",
      "Epoch 12/20\n",
      "2452/2452 [==============================] - 20s 8ms/step - loss: 7.1924e-05\n",
      "Epoch 13/20\n",
      "2452/2452 [==============================] - 20s 8ms/step - loss: 7.6825e-05\n",
      "Epoch 14/20\n",
      "2452/2452 [==============================] - 20s 8ms/step - loss: 6.9840e-05\n",
      "Epoch 15/20\n",
      "2452/2452 [==============================] - 20s 8ms/step - loss: 7.0837e-05\n",
      "Epoch 16/20\n",
      "2452/2452 [==============================] - 21s 8ms/step - loss: 6.5585e-05\n",
      "Epoch 17/20\n",
      "2452/2452 [==============================] - 20s 8ms/step - loss: 6.4627e-05\n",
      "Epoch 18/20\n",
      "2452/2452 [==============================] - 21s 9ms/step - loss: 6.3588e-05\n",
      "Epoch 19/20\n",
      "2452/2452 [==============================] - 21s 8ms/step - loss: 6.5850e-05\n",
      "Epoch 20/20\n",
      "2452/2452 [==============================] - 20s 8ms/step - loss: 5.8665e-05\n",
      "Epoch 1/20\n",
      "2452/2452 [==============================] - 25s 9ms/step - loss: 0.0017\n",
      "Epoch 2/20\n",
      "2452/2452 [==============================] - 21s 8ms/step - loss: 2.3482e-04\n",
      "Epoch 3/20\n",
      "2452/2452 [==============================] - 21s 8ms/step - loss: 1.5999e-04\n",
      "Epoch 4/20\n",
      "2452/2452 [==============================] - 20s 8ms/step - loss: 1.4309e-04\n",
      "Epoch 5/20\n",
      "2452/2452 [==============================] - 21s 8ms/step - loss: 1.2525e-04\n",
      "Epoch 6/20\n",
      "2452/2452 [==============================] - 21s 8ms/step - loss: 1.0003e-04\n",
      "Epoch 7/20\n",
      "2452/2452 [==============================] - 20s 8ms/step - loss: 9.4993e-05\n",
      "Epoch 8/20\n",
      "2452/2452 [==============================] - 21s 8ms/step - loss: 9.0618e-05\n",
      "Epoch 9/20\n",
      "2452/2452 [==============================] - 20s 8ms/step - loss: 9.7869e-05\n",
      "Epoch 10/20\n",
      "2452/2452 [==============================] - 20s 8ms/step - loss: 8.4967e-05\n",
      "Epoch 11/20\n",
      "2452/2452 [==============================] - 21s 8ms/step - loss: 8.8079e-05\n",
      "Epoch 12/20\n",
      "2452/2452 [==============================] - 20s 8ms/step - loss: 7.5689e-05\n",
      "Epoch 13/20\n",
      "2452/2452 [==============================] - 20s 8ms/step - loss: 7.9811e-05\n",
      "Epoch 14/20\n",
      "2452/2452 [==============================] - 21s 8ms/step - loss: 7.0089e-05\n",
      "Epoch 15/20\n",
      "2452/2452 [==============================] - 21s 9ms/step - loss: 6.6560e-05\n",
      "Epoch 16/20\n",
      "2452/2452 [==============================] - 21s 8ms/step - loss: 6.7341e-05\n",
      "Epoch 17/20\n",
      "2452/2452 [==============================] - 21s 9ms/step - loss: 6.7546e-05\n",
      "Epoch 18/20\n",
      "2452/2452 [==============================] - 21s 9ms/step - loss: 6.5767e-05\n",
      "Epoch 19/20\n",
      "2452/2452 [==============================] - 21s 9ms/step - loss: 7.5612e-05\n",
      "Epoch 20/20\n",
      "2452/2452 [==============================] - 21s 8ms/step - loss: 6.0595e-05\n"
     ]
    },
    {
     "data": {
      "text/plain": [
       "<Figure size 1152x576 with 0 Axes>"
      ]
     },
     "metadata": {},
     "output_type": "display_data"
    }
   ],
   "source": [
    "preds_train = []\n",
    "preds_test = []\n",
    "rmse_lstm = []\n",
    "rmse_svr = []\n",
    "plt.figure(figsize=(16,8))\n",
    "\n",
    "preds_train, preds_test = svr_train(technical_indicators, horizons, X_train, y_train, X_test, y_test)\n",
    "rmse_svr.append(score(horizons, y_test, preds_test))\n",
    "preds_train, preds_test = svr_train(fundamental_indicators, horizons, X_train, y_train, X_test, y_test)\n",
    "rmse_svr.append(score(horizons, y_test, preds_test))\n",
    "preds_train, preds_test = svr_train(combined_indicators, horizons, X_train, y_train, X_test, y_test)\n",
    "rmse_svr.append(score(horizons, y_test, preds_test))\n",
    "preds_train_7, preds_test_7 = svr_train(technical_indicators, horizons_7, X_train_7, y_train_7, X_test_7, y_test_7)\n",
    "rmse_svr.append(score(horizons_7, y_test_7, preds_test_7))\n",
    "preds_train_7, preds_test_7 = svr_train(fundamental_indicators, horizons_7, X_train_7, y_train_7, X_test_7, y_test_7)\n",
    "rmse_svr.append(score(horizons_7, y_test_7, preds_test_7))\n",
    "preds_train_7, preds_test_7 = svr_train(combined_indicators, horizons_7, X_train_7, y_train_7, X_test_7, y_test_7)\n",
    "rmse_svr.append(score(horizons_7, y_test_7, preds_test_7))\n",
    "\n",
    "preds_train, preds_test = lstm_train(technical_indicators, horizons, X_train, y_train, X_test, y_test)\n",
    "rmse_lstm.append(score(horizons, y_test, preds_test))\n",
    "preds_train, preds_test = lstm_train(fundamental_indicators, horizons, X_train, y_train, X_test, y_test)\n",
    "rmse_lstm.append(score(horizons, y_test, preds_test))\n",
    "preds_train, preds_test = lstm_train(combined_indicators, horizons, X_train, y_train, X_test, y_test)\n",
    "rmse_lstm.append(score(horizons, y_test, preds_test))\n",
    "preds_train_7, preds_test_7 = lstm_train(technical_indicators, horizons_7, X_train_7, y_train_7, X_test_7, y_test_7)\n",
    "rmse_lstm.append(score(horizons_7, y_test_7, preds_test_7))\n",
    "preds_train_7, preds_test_7 = lstm_train(fundamental_indicators, horizons_7, X_train_7, y_train_7, X_test_7, y_test_7)\n",
    "rmse_lstm.append(score(horizons_7, y_test_7, preds_test_7))\n",
    "preds_train_7, preds_test_7 = lstm_train(combined_indicators, horizons_7, X_train_7, y_train_7, X_test_7, y_test_7)\n",
    "rmse_lstm.append(score(horizons_7, y_test_7, preds_test_7))"
   ]
  },
  {
   "cell_type": "code",
   "execution_count": 19,
   "metadata": {},
   "outputs": [
    {
     "data": {
      "image/png": "[encoded data removed]",
      "text/plain": [
       "<Figure size 1152x432 with 1 Axes>"
      ]
     },
     "metadata": {
      "needs_background": "light"
     },
     "output_type": "display_data"
    }
   ],
   "source": [
    "plt.figure(figsize=(12, 6))\n",
    "xticks = ['Technical 1 day', 'Fundamental 1 day', 'Combined 1 day', 'Technical 7 days', 'Fundamental 7 days', 'Combined 7 days']\n",
    "plt.plot(xticks, rmse_svr, marker='s', markersize=10, label=\"SVR\")\n",
    "plt.plot(xticks, rmse_lstm, marker='o', markersize=10, label=\"LSTM\")\n",
    "plt.xticks(fontsize=12)\n",
    "plt.ylim(0, 0.1)\n",
    "plt.legend()\n",
    "plt.grid(axis='x')\n",
    "plt.show()"
   ]
  },
  {
   "cell_type": "code",
   "execution_count": 14,
   "metadata": {},
   "outputs": [
    {
     "data": {
      "text/plain": [
       "0.0576990231132232"
      ]
     },
     "execution_count": 14,
     "metadata": {},
     "output_type": "execute_result"
    }
   ],
   "source": [
    "preds_train, preds_test = svr_train(technical_indicators, horizons, X_train, y_train, X_test, y_test)\n",
    "score(horizons, y_test, preds_test)"
   ]
  },
  {
   "cell_type": "code",
   "execution_count": 15,
   "metadata": {},
   "outputs": [
    {
     "data": {
      "text/plain": [
       "<matplotlib.legend.Legend at 0x7f5f306e5340>"
      ]
     },
     "execution_count": 15,
     "metadata": {},
     "output_type": "execute_result"
    },
    {
     "data": {
      "image/png": "[encoded data removed]",
      "text/plain": [
       "<Figure size 432x288 with 1 Axes>"
      ]
     },
     "metadata": {
      "needs_background": "light"
     },
     "output_type": "display_data"
    }
   ],
   "source": [
    "preds_test = pd.DataFrame(preds_test, columns = ['Predictions'], index = y_test.reset_index().index)\n",
    "plt.plot(y_test.reset_index()[horizons], label='Actual Price', color='b')\n",
    "plt.plot(preds_test['Predictions'], color='r')\n",
    "plt.legend()"
   ]
  },
  {
   "cell_type": "code",
   "execution_count": 16,
   "metadata": {},
   "outputs": [
    {
     "name": "stdout",
     "output_type": "stream",
     "text": [
      "Epoch 1/20\n",
      "2467/2467 [==============================] - 27s 10ms/step - loss: 0.0015\n",
      "Epoch 2/20\n",
      "2467/2467 [==============================] - 23s 9ms/step - loss: 2.0777e-04\n",
      "Epoch 3/20\n",
      "2467/2467 [==============================] - 23s 9ms/step - loss: 1.5691e-04\n",
      "Epoch 4/20\n",
      "2467/2467 [==============================] - 23s 9ms/step - loss: 1.1548e-04\n",
      "Epoch 5/20\n",
      "2467/2467 [==============================] - 21s 9ms/step - loss: 1.0753e-04\n",
      "Epoch 6/20\n",
      "2467/2467 [==============================] - 21s 8ms/step - loss: 8.7851e-05\n",
      "Epoch 7/20\n",
      "2467/2467 [==============================] - 24s 10ms/step - loss: 7.0497e-05\n",
      "Epoch 8/20\n",
      "2467/2467 [==============================] - 24s 10ms/step - loss: 6.2448e-05\n",
      "Epoch 9/20\n",
      "2467/2467 [==============================] - 24s 10ms/step - loss: 7.0488e-05\n",
      "Epoch 10/20\n",
      "2467/2467 [==============================] - 21s 8ms/step - loss: 5.7327e-05\n",
      "Epoch 11/20\n",
      "2467/2467 [==============================] - 21s 8ms/step - loss: 6.1215e-05\n",
      "Epoch 12/20\n",
      "2467/2467 [==============================] - 21s 8ms/step - loss: 5.8737e-05\n",
      "Epoch 13/20\n",
      "2467/2467 [==============================] - 24s 10ms/step - loss: 5.3116e-05\n",
      "Epoch 14/20\n",
      "2467/2467 [==============================] - 21s 9ms/step - loss: 5.4965e-05\n",
      "Epoch 15/20\n",
      "2467/2467 [==============================] - 21s 8ms/step - loss: 5.5844e-05\n",
      "Epoch 16/20\n",
      "2467/2467 [==============================] - 21s 9ms/step - loss: 5.1991e-05\n",
      "Epoch 17/20\n",
      "2467/2467 [==============================] - 21s 8ms/step - loss: 5.4371e-05\n",
      "Epoch 18/20\n",
      "2467/2467 [==============================] - 21s 9ms/step - loss: 5.5400e-05\n",
      "Epoch 19/20\n",
      "2467/2467 [==============================] - 21s 8ms/step - loss: 4.8729e-05\n",
      "Epoch 20/20\n",
      "2467/2467 [==============================] - 21s 8ms/step - loss: 5.6166e-05\n"
     ]
    },
    {
     "data": {
      "text/plain": [
       "0.010701286454559276"
      ]
     },
     "execution_count": 16,
     "metadata": {},
     "output_type": "execute_result"
    }
   ],
   "source": [
    "preds_train, preds_test = lstm_train(technical_indicators, horizons, X_train, y_train, X_test, y_test)\n",
    "score(horizons, y_test, preds_test)"
   ]
  },
  {
   "cell_type": "code",
   "execution_count": 17,
   "metadata": {},
   "outputs": [
    {
     "data": {
      "text/plain": [
       "<matplotlib.legend.Legend at 0x7f5f3bd95e80>"
      ]
     },
     "execution_count": 17,
     "metadata": {},
     "output_type": "execute_result"
    },
    {
     "data": {
      "image/png": "[encoded data removed]",
      "text/plain": [
       "<Figure size 432x288 with 1 Axes>"
      ]
     },
     "metadata": {
      "needs_background": "light"
     },
     "output_type": "display_data"
    }
   ],
   "source": [
    "preds_test = pd.DataFrame(preds_test, columns = ['Predictions'], index = y_test.reset_index().index)\n",
    "plt.plot(y_test.reset_index()[horizons], label='Actual Price', color='b')\n",
    "plt.plot(preds_test['Predictions'], color='r')\n",
    "plt.legend()"
   ]
  },
  {
   "cell_type": "code",
   "execution_count": 5,
   "metadata": {},
   "outputs": [
    {
     "ename": "KeyError",
     "evalue": "'mode_reflect'",
     "output_type": "error",
     "traceback": [
      "\u001b[1;31m---------------------------------------------------------------------------\u001b[0m",
      "\u001b[1;31mKeyError\u001b[0m                                  Traceback (most recent call last)",
      "\u001b[1;32m<ipython-input-5-b7c74cbf5af0>\u001b[0m in \u001b[0;36m<module>\u001b[1;34m\u001b[0m\n\u001b[1;32m----> 1\u001b[1;33m \u001b[1;32mimport\u001b[0m \u001b[0msklearn\u001b[0m\u001b[1;33m\u001b[0m\u001b[1;33m\u001b[0m\u001b[0m\n\u001b[0m",
      "\u001b[1;32mD:\\Anaconda2020.07\\lib\\site-packages\\sklearn\\__init__.py\u001b[0m in \u001b[0;36m<module>\u001b[1;34m\u001b[0m\n\u001b[0;32m     80\u001b[0m     \u001b[1;32mfrom\u001b[0m \u001b[1;33m.\u001b[0m \u001b[1;32mimport\u001b[0m \u001b[0m_distributor_init\u001b[0m  \u001b[1;31m# noqa: F401\u001b[0m\u001b[1;33m\u001b[0m\u001b[1;33m\u001b[0m\u001b[0m\n\u001b[0;32m     81\u001b[0m     \u001b[1;32mfrom\u001b[0m \u001b[1;33m.\u001b[0m \u001b[1;32mimport\u001b[0m \u001b[0m__check_build\u001b[0m  \u001b[1;31m# noqa: F401\u001b[0m\u001b[1;33m\u001b[0m\u001b[1;33m\u001b[0m\u001b[0m\n\u001b[1;32m---> 82\u001b[1;33m     \u001b[1;32mfrom\u001b[0m \u001b[1;33m.\u001b[0m\u001b[0mbase\u001b[0m \u001b[1;32mimport\u001b[0m \u001b[0mclone\u001b[0m\u001b[1;33m\u001b[0m\u001b[1;33m\u001b[0m\u001b[0m\n\u001b[0m\u001b[0;32m     83\u001b[0m     \u001b[1;32mfrom\u001b[0m \u001b[1;33m.\u001b[0m\u001b[0mutils\u001b[0m\u001b[1;33m.\u001b[0m\u001b[0m_show_versions\u001b[0m \u001b[1;32mimport\u001b[0m \u001b[0mshow_versions\u001b[0m\u001b[1;33m\u001b[0m\u001b[1;33m\u001b[0m\u001b[0m\n\u001b[0;32m     84\u001b[0m \u001b[1;33m\u001b[0m\u001b[0m\n",
      "\u001b[1;32mD:\\Anaconda2020.07\\lib\\site-packages\\sklearn\\base.py\u001b[0m in \u001b[0;36m<module>\u001b[1;34m\u001b[0m\n\u001b[0;32m     15\u001b[0m \u001b[1;32mfrom\u001b[0m \u001b[1;33m.\u001b[0m \u001b[1;32mimport\u001b[0m \u001b[0m__version__\u001b[0m\u001b[1;33m\u001b[0m\u001b[1;33m\u001b[0m\u001b[0m\n\u001b[0;32m     16\u001b[0m \u001b[1;32mfrom\u001b[0m \u001b[1;33m.\u001b[0m\u001b[0m_config\u001b[0m \u001b[1;32mimport\u001b[0m \u001b[0mget_config\u001b[0m\u001b[1;33m\u001b[0m\u001b[1;33m\u001b[0m\u001b[0m\n\u001b[1;32m---> 17\u001b[1;33m \u001b[1;32mfrom\u001b[0m \u001b[1;33m.\u001b[0m\u001b[0mutils\u001b[0m \u001b[1;32mimport\u001b[0m \u001b[0m_IS_32BIT\u001b[0m\u001b[1;33m\u001b[0m\u001b[1;33m\u001b[0m\u001b[0m\n\u001b[0m\u001b[0;32m     18\u001b[0m from .utils._tags import (\n\u001b[0;32m     19\u001b[0m     \u001b[0m_DEFAULT_TAGS\u001b[0m\u001b[1;33m,\u001b[0m\u001b[1;33m\u001b[0m\u001b[1;33m\u001b[0m\u001b[0m\n",
      "\u001b[1;32mD:\\Anaconda2020.07\\lib\\site-packages\\sklearn\\utils\\__init__.py\u001b[0m in \u001b[0;36m<module>\u001b[1;34m\u001b[0m\n\u001b[0;32m     26\u001b[0m \u001b[1;32mfrom\u001b[0m \u001b[1;33m.\u001b[0m\u001b[1;33m.\u001b[0m\u001b[0mexceptions\u001b[0m \u001b[1;32mimport\u001b[0m \u001b[0mDataConversionWarning\u001b[0m\u001b[1;33m\u001b[0m\u001b[1;33m\u001b[0m\u001b[0m\n\u001b[0;32m     27\u001b[0m \u001b[1;32mfrom\u001b[0m \u001b[1;33m.\u001b[0m\u001b[0mdeprecation\u001b[0m \u001b[1;32mimport\u001b[0m \u001b[0mdeprecated\u001b[0m\u001b[1;33m\u001b[0m\u001b[1;33m\u001b[0m\u001b[0m\n\u001b[1;32m---> 28\u001b[1;33m \u001b[1;32mfrom\u001b[0m \u001b[1;33m.\u001b[0m\u001b[0mfixes\u001b[0m \u001b[1;32mimport\u001b[0m \u001b[0mnp_version\u001b[0m\u001b[1;33m,\u001b[0m \u001b[0mparse_version\u001b[0m\u001b[1;33m\u001b[0m\u001b[1;33m\u001b[0m\u001b[0m\n\u001b[0m\u001b[0;32m     29\u001b[0m \u001b[1;32mfrom\u001b[0m \u001b[1;33m.\u001b[0m\u001b[0m_estimator_html_repr\u001b[0m \u001b[1;32mimport\u001b[0m \u001b[0mestimator_html_repr\u001b[0m\u001b[1;33m\u001b[0m\u001b[1;33m\u001b[0m\u001b[0m\n\u001b[0;32m     30\u001b[0m from .validation import (\n",
      "\u001b[1;32mD:\\Anaconda2020.07\\lib\\site-packages\\sklearn\\utils\\fixes.py\u001b[0m in \u001b[0;36m<module>\u001b[1;34m\u001b[0m\n\u001b[0;32m     18\u001b[0m \u001b[1;32mimport\u001b[0m \u001b[0mscipy\u001b[0m\u001b[1;33m.\u001b[0m\u001b[0msparse\u001b[0m \u001b[1;32mas\u001b[0m \u001b[0msp\u001b[0m\u001b[1;33m\u001b[0m\u001b[1;33m\u001b[0m\u001b[0m\n\u001b[0;32m     19\u001b[0m \u001b[1;32mimport\u001b[0m \u001b[0mscipy\u001b[0m\u001b[1;33m\u001b[0m\u001b[1;33m\u001b[0m\u001b[0m\n\u001b[1;32m---> 20\u001b[1;33m \u001b[1;32mimport\u001b[0m \u001b[0mscipy\u001b[0m\u001b[1;33m.\u001b[0m\u001b[0mstats\u001b[0m\u001b[1;33m\u001b[0m\u001b[1;33m\u001b[0m\u001b[0m\n\u001b[0m\u001b[0;32m     21\u001b[0m \u001b[1;32mfrom\u001b[0m \u001b[0mscipy\u001b[0m\u001b[1;33m.\u001b[0m\u001b[0msparse\u001b[0m\u001b[1;33m.\u001b[0m\u001b[0mlinalg\u001b[0m \u001b[1;32mimport\u001b[0m \u001b[0mlsqr\u001b[0m \u001b[1;32mas\u001b[0m \u001b[0msparse_lsqr\u001b[0m  \u001b[1;31m# noqa\u001b[0m\u001b[1;33m\u001b[0m\u001b[1;33m\u001b[0m\u001b[0m\n\u001b[0;32m     22\u001b[0m \u001b[1;32mimport\u001b[0m \u001b[0mthreadpoolctl\u001b[0m\u001b[1;33m\u001b[0m\u001b[1;33m\u001b[0m\u001b[0m\n",
      "\u001b[1;32mD:\\Anaconda2020.07\\lib\\site-packages\\scipy\\stats\\__init__.py\u001b[0m in \u001b[0;36m<module>\u001b[1;34m\u001b[0m\n\u001b[0;32m    451\u001b[0m \"\"\"\n\u001b[0;32m    452\u001b[0m \u001b[1;33m\u001b[0m\u001b[0m\n\u001b[1;32m--> 453\u001b[1;33m \u001b[1;32mfrom\u001b[0m \u001b[1;33m.\u001b[0m\u001b[0m_stats_py\u001b[0m \u001b[1;32mimport\u001b[0m \u001b[1;33m*\u001b[0m\u001b[1;33m\u001b[0m\u001b[1;33m\u001b[0m\u001b[0m\n\u001b[0m\u001b[0;32m    454\u001b[0m \u001b[1;32mfrom\u001b[0m \u001b[1;33m.\u001b[0m\u001b[0m_variation\u001b[0m \u001b[1;32mimport\u001b[0m \u001b[0mvariation\u001b[0m\u001b[1;33m\u001b[0m\u001b[1;33m\u001b[0m\u001b[0m\n\u001b[0;32m    455\u001b[0m \u001b[1;32mfrom\u001b[0m \u001b[1;33m.\u001b[0m\u001b[0mdistributions\u001b[0m \u001b[1;32mimport\u001b[0m \u001b[1;33m*\u001b[0m\u001b[1;33m\u001b[0m\u001b[1;33m\u001b[0m\u001b[0m\n",
      "\u001b[1;32mD:\\Anaconda2020.07\\lib\\site-packages\\scipy\\stats\\_stats_py.py\u001b[0m in \u001b[0;36m<module>\u001b[1;34m\u001b[0m\n\u001b[0;32m     37\u001b[0m \u001b[1;33m\u001b[0m\u001b[0m\n\u001b[0;32m     38\u001b[0m \u001b[1;32mfrom\u001b[0m \u001b[0mscipy\u001b[0m\u001b[1;33m.\u001b[0m\u001b[0mspatial\u001b[0m\u001b[1;33m.\u001b[0m\u001b[0mdistance\u001b[0m \u001b[1;32mimport\u001b[0m \u001b[0mcdist\u001b[0m\u001b[1;33m\u001b[0m\u001b[1;33m\u001b[0m\u001b[0m\n\u001b[1;32m---> 39\u001b[1;33m \u001b[1;32mfrom\u001b[0m \u001b[0mscipy\u001b[0m\u001b[1;33m.\u001b[0m\u001b[0mndimage\u001b[0m \u001b[1;32mimport\u001b[0m \u001b[0m_measurements\u001b[0m\u001b[1;33m\u001b[0m\u001b[1;33m\u001b[0m\u001b[0m\n\u001b[0m\u001b[0;32m     40\u001b[0m from scipy._lib._util import (check_random_state, MapWrapper,\n\u001b[0;32m     41\u001b[0m                               rng_integers, float_factorial)\n",
      "\u001b[1;32mD:\\Anaconda2020.07\\lib\\site-packages\\scipy\\ndimage\\_measurements.py\u001b[0m in \u001b[0;36m<module>\u001b[1;34m\u001b[0m\n\u001b[0;32m     34\u001b[0m \u001b[1;32mfrom\u001b[0m \u001b[1;33m.\u001b[0m \u001b[1;32mimport\u001b[0m \u001b[0m_ni_label\u001b[0m\u001b[1;33m\u001b[0m\u001b[1;33m\u001b[0m\u001b[0m\n\u001b[0;32m     35\u001b[0m \u001b[1;32mfrom\u001b[0m \u001b[1;33m.\u001b[0m \u001b[1;32mimport\u001b[0m \u001b[0m_nd_image\u001b[0m\u001b[1;33m\u001b[0m\u001b[1;33m\u001b[0m\u001b[0m\n\u001b[1;32m---> 36\u001b[1;33m \u001b[1;32mfrom\u001b[0m \u001b[1;33m.\u001b[0m \u001b[1;32mimport\u001b[0m \u001b[0m_morphology\u001b[0m\u001b[1;33m\u001b[0m\u001b[1;33m\u001b[0m\u001b[0m\n\u001b[0m\u001b[0;32m     37\u001b[0m \u001b[1;33m\u001b[0m\u001b[0m\n\u001b[0;32m     38\u001b[0m __all__ = ['label', 'find_objects', 'labeled_comprehension', 'sum', 'mean',\n",
      "\u001b[1;32mD:\\Anaconda2020.07\\lib\\site-packages\\scipy\\ndimage\\_morphology.py\u001b[0m in \u001b[0;36m<module>\u001b[1;34m\u001b[0m\n\u001b[0;32m     35\u001b[0m \u001b[1;32mfrom\u001b[0m \u001b[1;33m.\u001b[0m \u001b[1;32mimport\u001b[0m \u001b[0m_ni_support\u001b[0m\u001b[1;33m\u001b[0m\u001b[1;33m\u001b[0m\u001b[0m\n\u001b[0;32m     36\u001b[0m \u001b[1;32mfrom\u001b[0m \u001b[1;33m.\u001b[0m \u001b[1;32mimport\u001b[0m \u001b[0m_nd_image\u001b[0m\u001b[1;33m\u001b[0m\u001b[1;33m\u001b[0m\u001b[0m\n\u001b[1;32m---> 37\u001b[1;33m \u001b[1;32mfrom\u001b[0m \u001b[1;33m.\u001b[0m \u001b[1;32mimport\u001b[0m \u001b[0m_filters\u001b[0m\u001b[1;33m\u001b[0m\u001b[1;33m\u001b[0m\u001b[0m\n\u001b[0m\u001b[0;32m     38\u001b[0m \u001b[1;33m\u001b[0m\u001b[0m\n\u001b[0;32m     39\u001b[0m __all__ = ['iterate_structure', 'generate_binary_structure', 'binary_erosion',\n",
      "\u001b[1;32mD:\\Anaconda2020.07\\lib\\site-packages\\scipy\\ndimage\\_filters.py\u001b[0m in \u001b[0;36m<module>\u001b[1;34m\u001b[0m\n\u001b[0;32m     82\u001b[0m \u001b[1;33m\u001b[0m\u001b[0m\n\u001b[0;32m     83\u001b[0m \u001b[1;33m@\u001b[0m\u001b[0m_ni_docstrings\u001b[0m\u001b[1;33m.\u001b[0m\u001b[0mdocfiller\u001b[0m\u001b[1;33m\u001b[0m\u001b[1;33m\u001b[0m\u001b[0m\n\u001b[1;32m---> 84\u001b[1;33m def correlate1d(input, weights, axis=-1, output=None, mode=\"reflect\",\n\u001b[0m\u001b[0;32m     85\u001b[0m                 cval=0.0, origin=0):\n\u001b[0;32m     86\u001b[0m     \"\"\"Calculate a 1-D correlation along the given axis.\n",
      "\u001b[1;32mD:\\Anaconda2020.07\\lib\\site-packages\\scipy\\_lib\\doccer.py\u001b[0m in \u001b[0;36mdecorate\u001b[1;34m(f)\u001b[0m\n\u001b[0;32m    221\u001b[0m \u001b[1;33m\u001b[0m\u001b[0m\n\u001b[0;32m    222\u001b[0m     \u001b[1;32mdef\u001b[0m \u001b[0mdecorate\u001b[0m\u001b[1;33m(\u001b[0m\u001b[0mf\u001b[0m\u001b[1;33m)\u001b[0m\u001b[1;33m:\u001b[0m\u001b[1;33m\u001b[0m\u001b[1;33m\u001b[0m\u001b[0m\n\u001b[1;32m--> 223\u001b[1;33m         \u001b[0mf\u001b[0m\u001b[1;33m.\u001b[0m\u001b[0m__doc__\u001b[0m \u001b[1;33m=\u001b[0m \u001b[0mdocformat\u001b[0m\u001b[1;33m(\u001b[0m\u001b[0mf\u001b[0m\u001b[1;33m.\u001b[0m\u001b[0m__doc__\u001b[0m\u001b[1;33m,\u001b[0m \u001b[0mdocdict\u001b[0m\u001b[1;33m)\u001b[0m\u001b[1;33m\u001b[0m\u001b[1;33m\u001b[0m\u001b[0m\n\u001b[0m\u001b[0;32m    224\u001b[0m         \u001b[1;32mreturn\u001b[0m \u001b[0mf\u001b[0m\u001b[1;33m\u001b[0m\u001b[1;33m\u001b[0m\u001b[0m\n\u001b[0;32m    225\u001b[0m     \u001b[1;32mreturn\u001b[0m \u001b[0mdecorate\u001b[0m\u001b[1;33m\u001b[0m\u001b[1;33m\u001b[0m\u001b[0m\n",
      "\u001b[1;32mD:\\Anaconda2020.07\\lib\\site-packages\\scipy\\_lib\\doccer.py\u001b[0m in \u001b[0;36mdocformat\u001b[1;34m(docstring, docdict)\u001b[0m\n\u001b[0;32m     64\u001b[0m         \u001b[1;32mexcept\u001b[0m \u001b[0mIndexError\u001b[0m\u001b[1;33m:\u001b[0m\u001b[1;33m\u001b[0m\u001b[1;33m\u001b[0m\u001b[0m\n\u001b[0;32m     65\u001b[0m             \u001b[0mindented\u001b[0m\u001b[1;33m[\u001b[0m\u001b[0mname\u001b[0m\u001b[1;33m]\u001b[0m \u001b[1;33m=\u001b[0m \u001b[0mdstr\u001b[0m\u001b[1;33m\u001b[0m\u001b[1;33m\u001b[0m\u001b[0m\n\u001b[1;32m---> 66\u001b[1;33m     \u001b[1;32mreturn\u001b[0m \u001b[0mdocstring\u001b[0m \u001b[1;33m%\u001b[0m \u001b[0mindented\u001b[0m\u001b[1;33m\u001b[0m\u001b[1;33m\u001b[0m\u001b[0m\n\u001b[0m\u001b[0;32m     67\u001b[0m \u001b[1;33m\u001b[0m\u001b[0m\n\u001b[0;32m     68\u001b[0m \u001b[1;33m\u001b[0m\u001b[0m\n",
      "\u001b[1;31mKeyError\u001b[0m: 'mode_reflect'"
     ]
    }
   ],
   "source": [
    "import sklearn"
   ]
  },
  {
   "cell_type": "code",
   "execution_count": null,
   "metadata": {},
   "outputs": [],
   "source": []
  }
 ],
 "metadata": {
  "kernelspec": {
   "display_name": "Python 3",
   "language": "python",
   "name": "python3"
  },
  "language_info": {
   "codemirror_mode": {
    "name": "ipython",
    "version": 3
   },
   "file_extension": ".py",
   "mimetype": "text/x-python",
   "name": "python",
   "nbconvert_exporter": "python",
   "pygments_lexer": "ipython3",
   "version": "3.8.3"
  },
  "pycharm": {
   "stem_cell": {
    "cell_type": "raw",
    "metadata": {
     "collapsed": false
    },
    "source": []
   }
  }
 },
 "nbformat": 4,
 "nbformat_minor": 5
}
